{
  "cells": [
    {
      "cell_type": "markdown",
      "metadata": {
        "id": "6HNYNZOdFgvk"
      },
      "source": [
        "# Phishing Domain Detection"
      ]
    },
    {
      "cell_type": "markdown",
      "metadata": {
        "id": "VQZgf4B4FeU6"
      },
      "source": [
        "## Problem Statement:\n",
        "Phishing is a type of fraud in which an attacker impersonates a reputable company or\n",
        "person in order to get sensitive information such as login credentials or account\n",
        "information via email or other communication channels. Phishing is popular among\n",
        "attackers because it is easier to persuade someone to click a malicious link that appears\n",
        "to be authentic than it is to break through a computer's protection measures."
      ]
    },
    {
      "cell_type": "markdown",
      "metadata": {
        "id": "BWJrlUDX9lQ8"
      },
      "source": [
        "### Import Statements\n"
      ]
    },
    {
      "cell_type": "code",
      "execution_count": 1,
      "metadata": {
        "id": "GkgXJ1xMRgOr"
      },
      "outputs": [],
      "source": [
        "import pandas as pd\n",
        "import numpy as np\n",
        "\n",
        "import matplotlib.pyplot as plt\n",
        "import seaborn as sns\n",
        "\n",
        "from nltk.tokenize import RegexpTokenizer\n",
        "from nltk.stem.snowball import SnowballStemmer\n",
        "from sklearn.feature_extraction.text import CountVectorizer\n",
        "from sklearn.model_selection import train_test_split\n",
        "\n",
        "from sklearn.linear_model import LogisticRegression\n",
        "from sklearn.neighbors import KNeighborsClassifier\n",
        "from sklearn.tree import DecisionTreeClassifier\n",
        "from sklearn.ensemble import RandomForestClassifier\n",
        "from sklearn.svm import SVC\n",
        "from sklearn.model_selection import GridSearchCV\n",
        "from sklearn.naive_bayes import GaussianNB\n",
        "from sklearn.ensemble import GradientBoostingClassifier\n",
        "\n",
        "from sklearn import metrics\n",
        "from sklearn.utils import shuffle\n",
        "\n",
        "\n",
        "# hide warnings\n",
        "import warnings\n",
        "warnings.filterwarnings('ignore')"
      ]
    },
    {
      "cell_type": "markdown",
      "metadata": {
        "id": "8YQ2UYlh9uG0"
      },
      "source": [
        "### Loading the Dataset"
      ]
    },
    {
      "cell_type": "code",
      "source": [
        "from google.colab import drive\n",
        "drive.mount('/content/drive')"
      ],
      "metadata": {
        "colab": {
          "base_uri": "https://localhost:8080/"
        },
        "id": "MbtLG_CIchpE",
        "outputId": "3941725f-a92f-471b-952d-b35bfb52d294"
      },
      "execution_count": 2,
      "outputs": [
        {
          "output_type": "stream",
          "name": "stdout",
          "text": [
            "Drive already mounted at /content/drive; to attempt to forcibly remount, call drive.mount(\"/content/drive\", force_remount=True).\n"
          ]
        }
      ]
    },
    {
      "cell_type": "code",
      "execution_count": 3,
      "metadata": {
        "id": "xVwLmqXZRqAr"
      },
      "outputs": [],
      "source": [
        "df = pd.read_csv(\"/content/drive/MyDrive/ColabNotebooks/MajorProject/phishing_site_urls.csv\")"
      ]
    },
    {
      "cell_type": "markdown",
      "metadata": {
        "id": "xYTif5CR90y7"
      },
      "source": [
        "### Exploratory Data Analysis"
      ]
    },
    {
      "cell_type": "code",
      "execution_count": 4,
      "metadata": {
        "colab": {
          "base_uri": "https://localhost:8080/",
          "height": 224
        },
        "id": "GdlJSrkVRyMZ",
        "outputId": "05ee2a85-54b9-49c3-b05f-2cf58179b410"
      },
      "outputs": [
        {
          "output_type": "stream",
          "name": "stdout",
          "text": [
            "(549346, 2)\n"
          ]
        },
        {
          "output_type": "execute_result",
          "data": {
            "text/plain": [
              "                                                 URL Label\n",
              "0  nobell.it/70ffb52d079109dca5664cce6f317373782/...   bad\n",
              "1  www.dghjdgf.com/paypal.co.uk/cycgi-bin/webscrc...   bad\n",
              "2  serviciosbys.com/paypal.cgi.bin.get-into.herf....   bad\n",
              "3  mail.printakid.com/www.online.americanexpress....   bad\n",
              "4  thewhiskeydregs.com/wp-content/themes/widescre...   bad"
            ],
            "text/html": [
              "\n",
              "\n",
              "  <div id=\"df-706c7f88-aad6-41e9-a9bc-4d3bf2b5bf54\">\n",
              "    <div class=\"colab-df-container\">\n",
              "      <div>\n",
              "<style scoped>\n",
              "    .dataframe tbody tr th:only-of-type {\n",
              "        vertical-align: middle;\n",
              "    }\n",
              "\n",
              "    .dataframe tbody tr th {\n",
              "        vertical-align: top;\n",
              "    }\n",
              "\n",
              "    .dataframe thead th {\n",
              "        text-align: right;\n",
              "    }\n",
              "</style>\n",
              "<table border=\"1\" class=\"dataframe\">\n",
              "  <thead>\n",
              "    <tr style=\"text-align: right;\">\n",
              "      <th></th>\n",
              "      <th>URL</th>\n",
              "      <th>Label</th>\n",
              "    </tr>\n",
              "  </thead>\n",
              "  <tbody>\n",
              "    <tr>\n",
              "      <th>0</th>\n",
              "      <td>nobell.it/70ffb52d079109dca5664cce6f317373782/...</td>\n",
              "      <td>bad</td>\n",
              "    </tr>\n",
              "    <tr>\n",
              "      <th>1</th>\n",
              "      <td>www.dghjdgf.com/paypal.co.uk/cycgi-bin/webscrc...</td>\n",
              "      <td>bad</td>\n",
              "    </tr>\n",
              "    <tr>\n",
              "      <th>2</th>\n",
              "      <td>serviciosbys.com/paypal.cgi.bin.get-into.herf....</td>\n",
              "      <td>bad</td>\n",
              "    </tr>\n",
              "    <tr>\n",
              "      <th>3</th>\n",
              "      <td>mail.printakid.com/www.online.americanexpress....</td>\n",
              "      <td>bad</td>\n",
              "    </tr>\n",
              "    <tr>\n",
              "      <th>4</th>\n",
              "      <td>thewhiskeydregs.com/wp-content/themes/widescre...</td>\n",
              "      <td>bad</td>\n",
              "    </tr>\n",
              "  </tbody>\n",
              "</table>\n",
              "</div>\n",
              "      <button class=\"colab-df-convert\" onclick=\"convertToInteractive('df-706c7f88-aad6-41e9-a9bc-4d3bf2b5bf54')\"\n",
              "              title=\"Convert this dataframe to an interactive table.\"\n",
              "              style=\"display:none;\">\n",
              "\n",
              "  <svg xmlns=\"http://www.w3.org/2000/svg\" height=\"24px\"viewBox=\"0 0 24 24\"\n",
              "       width=\"24px\">\n",
              "    <path d=\"M0 0h24v24H0V0z\" fill=\"none\"/>\n",
              "    <path d=\"M18.56 5.44l.94 2.06.94-2.06 2.06-.94-2.06-.94-.94-2.06-.94 2.06-2.06.94zm-11 1L8.5 8.5l.94-2.06 2.06-.94-2.06-.94L8.5 2.5l-.94 2.06-2.06.94zm10 10l.94 2.06.94-2.06 2.06-.94-2.06-.94-.94-2.06-.94 2.06-2.06.94z\"/><path d=\"M17.41 7.96l-1.37-1.37c-.4-.4-.92-.59-1.43-.59-.52 0-1.04.2-1.43.59L10.3 9.45l-7.72 7.72c-.78.78-.78 2.05 0 2.83L4 21.41c.39.39.9.59 1.41.59.51 0 1.02-.2 1.41-.59l7.78-7.78 2.81-2.81c.8-.78.8-2.07 0-2.86zM5.41 20L4 18.59l7.72-7.72 1.47 1.35L5.41 20z\"/>\n",
              "  </svg>\n",
              "      </button>\n",
              "\n",
              "\n",
              "\n",
              "    <div id=\"df-244eff5a-178c-4095-8e6a-ce9da99c15e1\">\n",
              "      <button class=\"colab-df-quickchart\" onclick=\"quickchart('df-244eff5a-178c-4095-8e6a-ce9da99c15e1')\"\n",
              "              title=\"Suggest charts.\"\n",
              "              style=\"display:none;\">\n",
              "\n",
              "<svg xmlns=\"http://www.w3.org/2000/svg\" height=\"24px\"viewBox=\"0 0 24 24\"\n",
              "     width=\"24px\">\n",
              "    <g>\n",
              "        <path d=\"M19 3H5c-1.1 0-2 .9-2 2v14c0 1.1.9 2 2 2h14c1.1 0 2-.9 2-2V5c0-1.1-.9-2-2-2zM9 17H7v-7h2v7zm4 0h-2V7h2v10zm4 0h-2v-4h2v4z\"/>\n",
              "    </g>\n",
              "</svg>\n",
              "      </button>\n",
              "    </div>\n",
              "\n",
              "<style>\n",
              "  .colab-df-quickchart {\n",
              "    background-color: #E8F0FE;\n",
              "    border: none;\n",
              "    border-radius: 50%;\n",
              "    cursor: pointer;\n",
              "    display: none;\n",
              "    fill: #1967D2;\n",
              "    height: 32px;\n",
              "    padding: 0 0 0 0;\n",
              "    width: 32px;\n",
              "  }\n",
              "\n",
              "  .colab-df-quickchart:hover {\n",
              "    background-color: #E2EBFA;\n",
              "    box-shadow: 0px 1px 2px rgba(60, 64, 67, 0.3), 0px 1px 3px 1px rgba(60, 64, 67, 0.15);\n",
              "    fill: #174EA6;\n",
              "  }\n",
              "\n",
              "  [theme=dark] .colab-df-quickchart {\n",
              "    background-color: #3B4455;\n",
              "    fill: #D2E3FC;\n",
              "  }\n",
              "\n",
              "  [theme=dark] .colab-df-quickchart:hover {\n",
              "    background-color: #434B5C;\n",
              "    box-shadow: 0px 1px 3px 1px rgba(0, 0, 0, 0.15);\n",
              "    filter: drop-shadow(0px 1px 2px rgba(0, 0, 0, 0.3));\n",
              "    fill: #FFFFFF;\n",
              "  }\n",
              "</style>\n",
              "\n",
              "    <script>\n",
              "      async function quickchart(key) {\n",
              "        const containerElement = document.querySelector('#' + key);\n",
              "        const charts = await google.colab.kernel.invokeFunction(\n",
              "            'suggestCharts', [key], {});\n",
              "      }\n",
              "    </script>\n",
              "\n",
              "      <script>\n",
              "\n",
              "function displayQuickchartButton(domScope) {\n",
              "  let quickchartButtonEl =\n",
              "    domScope.querySelector('#df-244eff5a-178c-4095-8e6a-ce9da99c15e1 button.colab-df-quickchart');\n",
              "  quickchartButtonEl.style.display =\n",
              "    google.colab.kernel.accessAllowed ? 'block' : 'none';\n",
              "}\n",
              "\n",
              "        displayQuickchartButton(document);\n",
              "      </script>\n",
              "      <style>\n",
              "    .colab-df-container {\n",
              "      display:flex;\n",
              "      flex-wrap:wrap;\n",
              "      gap: 12px;\n",
              "    }\n",
              "\n",
              "    .colab-df-convert {\n",
              "      background-color: #E8F0FE;\n",
              "      border: none;\n",
              "      border-radius: 50%;\n",
              "      cursor: pointer;\n",
              "      display: none;\n",
              "      fill: #1967D2;\n",
              "      height: 32px;\n",
              "      padding: 0 0 0 0;\n",
              "      width: 32px;\n",
              "    }\n",
              "\n",
              "    .colab-df-convert:hover {\n",
              "      background-color: #E2EBFA;\n",
              "      box-shadow: 0px 1px 2px rgba(60, 64, 67, 0.3), 0px 1px 3px 1px rgba(60, 64, 67, 0.15);\n",
              "      fill: #174EA6;\n",
              "    }\n",
              "\n",
              "    [theme=dark] .colab-df-convert {\n",
              "      background-color: #3B4455;\n",
              "      fill: #D2E3FC;\n",
              "    }\n",
              "\n",
              "    [theme=dark] .colab-df-convert:hover {\n",
              "      background-color: #434B5C;\n",
              "      box-shadow: 0px 1px 3px 1px rgba(0, 0, 0, 0.15);\n",
              "      filter: drop-shadow(0px 1px 2px rgba(0, 0, 0, 0.3));\n",
              "      fill: #FFFFFF;\n",
              "    }\n",
              "  </style>\n",
              "\n",
              "      <script>\n",
              "        const buttonEl =\n",
              "          document.querySelector('#df-706c7f88-aad6-41e9-a9bc-4d3bf2b5bf54 button.colab-df-convert');\n",
              "        buttonEl.style.display =\n",
              "          google.colab.kernel.accessAllowed ? 'block' : 'none';\n",
              "\n",
              "        async function convertToInteractive(key) {\n",
              "          const element = document.querySelector('#df-706c7f88-aad6-41e9-a9bc-4d3bf2b5bf54');\n",
              "          const dataTable =\n",
              "            await google.colab.kernel.invokeFunction('convertToInteractive',\n",
              "                                                     [key], {});\n",
              "          if (!dataTable) return;\n",
              "\n",
              "          const docLinkHtml = 'Like what you see? Visit the ' +\n",
              "            '<a target=\"_blank\" href=https://colab.research.google.com/notebooks/data_table.ipynb>data table notebook</a>'\n",
              "            + ' to learn more about interactive tables.';\n",
              "          element.innerHTML = '';\n",
              "          dataTable['output_type'] = 'display_data';\n",
              "          await google.colab.output.renderOutput(dataTable, element);\n",
              "          const docLink = document.createElement('div');\n",
              "          docLink.innerHTML = docLinkHtml;\n",
              "          element.appendChild(docLink);\n",
              "        }\n",
              "      </script>\n",
              "    </div>\n",
              "  </div>\n"
            ]
          },
          "metadata": {},
          "execution_count": 4
        }
      ],
      "source": [
        "#contents of dataset\n",
        "print(df.shape)\n",
        "df.head(5)"
      ]
    },
    {
      "cell_type": "code",
      "execution_count": 5,
      "metadata": {
        "colab": {
          "base_uri": "https://localhost:8080/",
          "height": 112
        },
        "id": "qoBOjvIER074",
        "outputId": "e5643f9e-a856-4ef5-8f44-7a10f0705dcf"
      },
      "outputs": [
        {
          "output_type": "execute_result",
          "data": {
            "text/plain": [
              "        count  unique                            top    freq\n",
              "URL    549346  507195  jhomitevd2abj3fk.tor2web.org/      52\n",
              "Label  549346       2                           good  392924"
            ],
            "text/html": [
              "\n",
              "\n",
              "  <div id=\"df-6040d39d-6f29-4c3c-a714-883139e53d78\">\n",
              "    <div class=\"colab-df-container\">\n",
              "      <div>\n",
              "<style scoped>\n",
              "    .dataframe tbody tr th:only-of-type {\n",
              "        vertical-align: middle;\n",
              "    }\n",
              "\n",
              "    .dataframe tbody tr th {\n",
              "        vertical-align: top;\n",
              "    }\n",
              "\n",
              "    .dataframe thead th {\n",
              "        text-align: right;\n",
              "    }\n",
              "</style>\n",
              "<table border=\"1\" class=\"dataframe\">\n",
              "  <thead>\n",
              "    <tr style=\"text-align: right;\">\n",
              "      <th></th>\n",
              "      <th>count</th>\n",
              "      <th>unique</th>\n",
              "      <th>top</th>\n",
              "      <th>freq</th>\n",
              "    </tr>\n",
              "  </thead>\n",
              "  <tbody>\n",
              "    <tr>\n",
              "      <th>URL</th>\n",
              "      <td>549346</td>\n",
              "      <td>507195</td>\n",
              "      <td>jhomitevd2abj3fk.tor2web.org/</td>\n",
              "      <td>52</td>\n",
              "    </tr>\n",
              "    <tr>\n",
              "      <th>Label</th>\n",
              "      <td>549346</td>\n",
              "      <td>2</td>\n",
              "      <td>good</td>\n",
              "      <td>392924</td>\n",
              "    </tr>\n",
              "  </tbody>\n",
              "</table>\n",
              "</div>\n",
              "      <button class=\"colab-df-convert\" onclick=\"convertToInteractive('df-6040d39d-6f29-4c3c-a714-883139e53d78')\"\n",
              "              title=\"Convert this dataframe to an interactive table.\"\n",
              "              style=\"display:none;\">\n",
              "\n",
              "  <svg xmlns=\"http://www.w3.org/2000/svg\" height=\"24px\"viewBox=\"0 0 24 24\"\n",
              "       width=\"24px\">\n",
              "    <path d=\"M0 0h24v24H0V0z\" fill=\"none\"/>\n",
              "    <path d=\"M18.56 5.44l.94 2.06.94-2.06 2.06-.94-2.06-.94-.94-2.06-.94 2.06-2.06.94zm-11 1L8.5 8.5l.94-2.06 2.06-.94-2.06-.94L8.5 2.5l-.94 2.06-2.06.94zm10 10l.94 2.06.94-2.06 2.06-.94-2.06-.94-.94-2.06-.94 2.06-2.06.94z\"/><path d=\"M17.41 7.96l-1.37-1.37c-.4-.4-.92-.59-1.43-.59-.52 0-1.04.2-1.43.59L10.3 9.45l-7.72 7.72c-.78.78-.78 2.05 0 2.83L4 21.41c.39.39.9.59 1.41.59.51 0 1.02-.2 1.41-.59l7.78-7.78 2.81-2.81c.8-.78.8-2.07 0-2.86zM5.41 20L4 18.59l7.72-7.72 1.47 1.35L5.41 20z\"/>\n",
              "  </svg>\n",
              "      </button>\n",
              "\n",
              "\n",
              "\n",
              "    <div id=\"df-6eec0954-a574-4cd9-85d5-e33e8e5d3629\">\n",
              "      <button class=\"colab-df-quickchart\" onclick=\"quickchart('df-6eec0954-a574-4cd9-85d5-e33e8e5d3629')\"\n",
              "              title=\"Suggest charts.\"\n",
              "              style=\"display:none;\">\n",
              "\n",
              "<svg xmlns=\"http://www.w3.org/2000/svg\" height=\"24px\"viewBox=\"0 0 24 24\"\n",
              "     width=\"24px\">\n",
              "    <g>\n",
              "        <path d=\"M19 3H5c-1.1 0-2 .9-2 2v14c0 1.1.9 2 2 2h14c1.1 0 2-.9 2-2V5c0-1.1-.9-2-2-2zM9 17H7v-7h2v7zm4 0h-2V7h2v10zm4 0h-2v-4h2v4z\"/>\n",
              "    </g>\n",
              "</svg>\n",
              "      </button>\n",
              "    </div>\n",
              "\n",
              "<style>\n",
              "  .colab-df-quickchart {\n",
              "    background-color: #E8F0FE;\n",
              "    border: none;\n",
              "    border-radius: 50%;\n",
              "    cursor: pointer;\n",
              "    display: none;\n",
              "    fill: #1967D2;\n",
              "    height: 32px;\n",
              "    padding: 0 0 0 0;\n",
              "    width: 32px;\n",
              "  }\n",
              "\n",
              "  .colab-df-quickchart:hover {\n",
              "    background-color: #E2EBFA;\n",
              "    box-shadow: 0px 1px 2px rgba(60, 64, 67, 0.3), 0px 1px 3px 1px rgba(60, 64, 67, 0.15);\n",
              "    fill: #174EA6;\n",
              "  }\n",
              "\n",
              "  [theme=dark] .colab-df-quickchart {\n",
              "    background-color: #3B4455;\n",
              "    fill: #D2E3FC;\n",
              "  }\n",
              "\n",
              "  [theme=dark] .colab-df-quickchart:hover {\n",
              "    background-color: #434B5C;\n",
              "    box-shadow: 0px 1px 3px 1px rgba(0, 0, 0, 0.15);\n",
              "    filter: drop-shadow(0px 1px 2px rgba(0, 0, 0, 0.3));\n",
              "    fill: #FFFFFF;\n",
              "  }\n",
              "</style>\n",
              "\n",
              "    <script>\n",
              "      async function quickchart(key) {\n",
              "        const containerElement = document.querySelector('#' + key);\n",
              "        const charts = await google.colab.kernel.invokeFunction(\n",
              "            'suggestCharts', [key], {});\n",
              "      }\n",
              "    </script>\n",
              "\n",
              "      <script>\n",
              "\n",
              "function displayQuickchartButton(domScope) {\n",
              "  let quickchartButtonEl =\n",
              "    domScope.querySelector('#df-6eec0954-a574-4cd9-85d5-e33e8e5d3629 button.colab-df-quickchart');\n",
              "  quickchartButtonEl.style.display =\n",
              "    google.colab.kernel.accessAllowed ? 'block' : 'none';\n",
              "}\n",
              "\n",
              "        displayQuickchartButton(document);\n",
              "      </script>\n",
              "      <style>\n",
              "    .colab-df-container {\n",
              "      display:flex;\n",
              "      flex-wrap:wrap;\n",
              "      gap: 12px;\n",
              "    }\n",
              "\n",
              "    .colab-df-convert {\n",
              "      background-color: #E8F0FE;\n",
              "      border: none;\n",
              "      border-radius: 50%;\n",
              "      cursor: pointer;\n",
              "      display: none;\n",
              "      fill: #1967D2;\n",
              "      height: 32px;\n",
              "      padding: 0 0 0 0;\n",
              "      width: 32px;\n",
              "    }\n",
              "\n",
              "    .colab-df-convert:hover {\n",
              "      background-color: #E2EBFA;\n",
              "      box-shadow: 0px 1px 2px rgba(60, 64, 67, 0.3), 0px 1px 3px 1px rgba(60, 64, 67, 0.15);\n",
              "      fill: #174EA6;\n",
              "    }\n",
              "\n",
              "    [theme=dark] .colab-df-convert {\n",
              "      background-color: #3B4455;\n",
              "      fill: #D2E3FC;\n",
              "    }\n",
              "\n",
              "    [theme=dark] .colab-df-convert:hover {\n",
              "      background-color: #434B5C;\n",
              "      box-shadow: 0px 1px 3px 1px rgba(0, 0, 0, 0.15);\n",
              "      filter: drop-shadow(0px 1px 2px rgba(0, 0, 0, 0.3));\n",
              "      fill: #FFFFFF;\n",
              "    }\n",
              "  </style>\n",
              "\n",
              "      <script>\n",
              "        const buttonEl =\n",
              "          document.querySelector('#df-6040d39d-6f29-4c3c-a714-883139e53d78 button.colab-df-convert');\n",
              "        buttonEl.style.display =\n",
              "          google.colab.kernel.accessAllowed ? 'block' : 'none';\n",
              "\n",
              "        async function convertToInteractive(key) {\n",
              "          const element = document.querySelector('#df-6040d39d-6f29-4c3c-a714-883139e53d78');\n",
              "          const dataTable =\n",
              "            await google.colab.kernel.invokeFunction('convertToInteractive',\n",
              "                                                     [key], {});\n",
              "          if (!dataTable) return;\n",
              "\n",
              "          const docLinkHtml = 'Like what you see? Visit the ' +\n",
              "            '<a target=\"_blank\" href=https://colab.research.google.com/notebooks/data_table.ipynb>data table notebook</a>'\n",
              "            + ' to learn more about interactive tables.';\n",
              "          element.innerHTML = '';\n",
              "          dataTable['output_type'] = 'display_data';\n",
              "          await google.colab.output.renderOutput(dataTable, element);\n",
              "          const docLink = document.createElement('div');\n",
              "          docLink.innerHTML = docLinkHtml;\n",
              "          element.appendChild(docLink);\n",
              "        }\n",
              "      </script>\n",
              "    </div>\n",
              "  </div>\n"
            ]
          },
          "metadata": {},
          "execution_count": 5
        }
      ],
      "source": [
        "df.describe().T"
      ]
    },
    {
      "cell_type": "code",
      "execution_count": 6,
      "metadata": {
        "colab": {
          "base_uri": "https://localhost:8080/"
        },
        "id": "BBW8SiAvR5bN",
        "outputId": "7f78518d-e662-4aa4-f386-2bd3b0db424a"
      },
      "outputs": [
        {
          "output_type": "execute_result",
          "data": {
            "text/plain": [
              "URL      0\n",
              "Label    0\n",
              "dtype: int64"
            ]
          },
          "metadata": {},
          "execution_count": 6
        }
      ],
      "source": [
        "#Checking for Null Values\n",
        "df.isnull().sum()"
      ]
    },
    {
      "cell_type": "code",
      "execution_count": 7,
      "metadata": {
        "colab": {
          "base_uri": "https://localhost:8080/",
          "height": 424
        },
        "id": "1m9GuvUxyr0h",
        "outputId": "648394c7-550a-4e73-af88-1877888f4804"
      },
      "outputs": [
        {
          "output_type": "execute_result",
          "data": {
            "text/plain": [
              "<Axes: ylabel='Label'>"
            ]
          },
          "metadata": {},
          "execution_count": 7
        },
        {
          "output_type": "display_data",
          "data": {
            "text/plain": [
              "<Figure size 640x480 with 1 Axes>"
            ],
            "image/png": "[encoded data removed]"
          },
          "metadata": {}
        }
      ],
      "source": [
        "#plot of data\n",
        "df['Label'].value_counts().plot(kind='pie',autopct='%1.2f%%')"
      ]
    },
    {
      "cell_type": "markdown",
      "metadata": {
        "id": "s6Sz85MQbAEi"
      },
      "source": [
        "### Data Sampling"
      ]
    },
    {
      "cell_type": "code",
      "execution_count": 8,
      "metadata": {
        "id": "yRxHfAlhbAEj"
      },
      "outputs": [],
      "source": [
        "df_shuffled = shuffle(df, random_state=42)\n",
        "data_size = 5000\n",
        "df_sampled = df_shuffled[:data_size].copy()"
      ]
    },
    {
      "cell_type": "code",
      "execution_count": 9,
      "metadata": {
        "colab": {
          "base_uri": "https://localhost:8080/",
          "height": 449
        },
        "id": "AX7c9jPkbAEj",
        "outputId": "820e562a-b3df-48a4-9d44-d5b8461434f6"
      },
      "outputs": [
        {
          "output_type": "display_data",
          "data": {
            "text/plain": [
              "<Figure size 640x480 with 1 Axes>"
            ],
            "image/png": "[encoded data removed]"
          },
          "metadata": {}
        }
      ],
      "source": [
        "#Make sure the distribution is the same after taking the sample\n",
        "sns.countplot(data=df_sampled, x=\"Label\")\n",
        "plt.show()"
      ]
    },
    {
      "cell_type": "code",
      "execution_count": 10,
      "metadata": {
        "colab": {
          "base_uri": "https://localhost:8080/"
        },
        "id": "AYD3nzlHbAEk",
        "outputId": "492b195f-720f-47da-d88d-5f78bec71b48"
      },
      "outputs": [
        {
          "output_type": "stream",
          "name": "stdout",
          "text": [
            "<class 'pandas.core.frame.DataFrame'>\n",
            "Int64Index: 5000 entries, 452638 to 170545\n",
            "Data columns (total 2 columns):\n",
            " #   Column  Non-Null Count  Dtype \n",
            "---  ------  --------------  ----- \n",
            " 0   URL     5000 non-null   object\n",
            " 1   Label   5000 non-null   object\n",
            "dtypes: object(2)\n",
            "memory usage: 117.2+ KB\n"
          ]
        }
      ],
      "source": [
        "df_sampled.info()\n",
        "df_sampled.replace({'good':0, 'bad':1}, inplace=True)"
      ]
    },
    {
      "cell_type": "markdown",
      "metadata": {
        "id": "DVG2ePrOWdwI"
      },
      "source": [
        "### Data Preprocessing"
      ]
    },
    {
      "cell_type": "code",
      "execution_count": 11,
      "metadata": {
        "id": "ZG18midY7yqu"
      },
      "outputs": [],
      "source": [
        "#Selecting Features and Target variables\n",
        "X_raw=df_sampled[[\"URL\"]]\n",
        "y=df_sampled[\"Label\"]"
      ]
    },
    {
      "cell_type": "code",
      "execution_count": 12,
      "metadata": {
        "id": "3i0PZyxp2f0L"
      },
      "outputs": [],
      "source": [
        "#Tokenization, Stemming, Vectorization\n",
        "tokenizer = RegexpTokenizer(r'[A-Za-z]+')\n",
        "stemmer = SnowballStemmer(\"english\")\n",
        "cv = CountVectorizer()\n",
        "\n",
        "\n",
        "def prepare_data(X) :\n",
        "    X['text_tokenized'] = X.URL.map(lambda t: tokenizer.tokenize(t))\n",
        "    X['text_stemmed'] = X.text_tokenized.map(lambda t: [stemmer.stem(word) for word in t])\n",
        "    X['text_sent'] = X.text_stemmed.map(lambda t: ' '.join(t))\n",
        "    features = cv.fit_transform(X.text_sent)\n",
        "    return X, features\n",
        "\n",
        "X_raw, X = prepare_data(X_raw)"
      ]
    },
    {
      "cell_type": "markdown",
      "metadata": {
        "id": "7O8N9s-WWA3o"
      },
      "source": [
        "### Splitting Data into Training and Testing"
      ]
    },
    {
      "cell_type": "code",
      "execution_count": 13,
      "metadata": {
        "id": "xQpmzh0VVxXf"
      },
      "outputs": [],
      "source": [
        "#Train Test Split\n",
        "X_train, X_test , y_train, y_test = train_test_split(X, y, test_size = 0.2 ,random_state = 42)"
      ]
    },
    {
      "cell_type": "markdown",
      "metadata": {
        "id": "bJ_9IzdWjwrY"
      },
      "source": [
        "### Comparison Pre Processing"
      ]
    },
    {
      "cell_type": "code",
      "execution_count": 14,
      "metadata": {
        "id": "twuoWWpTitd_"
      },
      "outputs": [],
      "source": [
        "#variable declaration to store values\n",
        "ml_model = []\n",
        "accuracy = []\n",
        "f1_score = []\n",
        "recall = []\n",
        "precision = []\n",
        "\n",
        "\n",
        "#function to add results\n",
        "def storeResults(model,acc,f1,rec,prec):\n",
        "    ml_model.append(model)\n",
        "    accuracy.append(round(acc, 3))\n",
        "    f1_score.append(round(f1, 3))\n",
        "    recall.append(round(rec, 3))\n",
        "    precision.append(round(prec ,3))"
      ]
    },
    {
      "cell_type": "markdown",
      "metadata": {
        "id": "h_jLfISnTA7y"
      },
      "source": [
        "### Testing Models\n",
        "\n",
        "*   Logistic Regression\n",
        "\n"
      ]
    },
    {
      "cell_type": "code",
      "execution_count": 15,
      "metadata": {
        "colab": {
          "base_uri": "https://localhost:8080/"
        },
        "id": "pFbgs9QJTRWI",
        "outputId": "a6a7a40d-837f-43f7-ba6c-2125920c6aa4"
      },
      "outputs": [
        {
          "output_type": "stream",
          "name": "stdout",
          "text": [
            "Logistic Regression : Accuracy on training Data: 0.967\n",
            "Logistic Regression : Accuracy on test Data: 0.887\n",
            "\n",
            "Logistic Regression : f1_score on training Data: 0.939\n",
            "Logistic Regression : f1_score on test Data: 0.785\n",
            "\n",
            "Logistic Regression : Recall on training Data: 0.890\n",
            "Logistic Regression : Recall on test Data: 0.694\n",
            "\n",
            "Logistic Regression : precision on training Data: 0.993\n",
            "Logistic Regression : precision on test Data: 0.904\n"
          ]
        }
      ],
      "source": [
        "#instantiate the model\n",
        "log = LogisticRegression()\n",
        "\n",
        "#fit the model\n",
        "log.fit(X_train,y_train)\n",
        "\n",
        "#predicting the target value from the model for the samples\n",
        "y_train_log = log.predict(X_train)\n",
        "y_test_log = log.predict(X_test)\n",
        "\n",
        "\n",
        "#computing accuracy, score, recall, precision of the model\n",
        "acc_train_log = metrics.accuracy_score(y_train,y_train_log)\n",
        "acc_test_log = metrics.accuracy_score(y_test,y_test_log)\n",
        "\n",
        "print(\"Logistic Regression : Accuracy on training Data: {:.3f}\".format(acc_train_log))\n",
        "print(\"Logistic Regression : Accuracy on test Data: {:.3f}\".format(acc_test_log))\n",
        "print()\n",
        "\n",
        "\n",
        "f1_score_train_log = metrics.f1_score(y_train,y_train_log)\n",
        "f1_score_test_log = metrics.f1_score(y_test,y_test_log)\n",
        "print(\"Logistic Regression : f1_score on training Data: {:.3f}\".format(f1_score_train_log))\n",
        "print(\"Logistic Regression : f1_score on test Data: {:.3f}\".format(f1_score_test_log))\n",
        "print()\n",
        "\n",
        "recall_score_train_log = metrics.recall_score(y_train,y_train_log)\n",
        "recall_score_test_log = metrics.recall_score(y_test,y_test_log)\n",
        "print(\"Logistic Regression : Recall on training Data: {:.3f}\".format(recall_score_train_log))\n",
        "print(\"Logistic Regression : Recall on test Data: {:.3f}\".format(recall_score_test_log))\n",
        "print()\n",
        "\n",
        "precision_score_train_log = metrics.precision_score(y_train,y_train_log)\n",
        "precision_score_test_log = metrics.precision_score(y_test,y_test_log)\n",
        "print(\"Logistic Regression : precision on training Data: {:.3f}\".format(precision_score_train_log))\n",
        "print(\"Logistic Regression : precision on test Data: {:.3f}\".format(precision_score_test_log))\n",
        "\n"
      ]
    },
    {
      "cell_type": "code",
      "execution_count": 16,
      "metadata": {
        "colab": {
          "base_uri": "https://localhost:8080/"
        },
        "id": "jN3hZTvfbAEn",
        "outputId": "8620367a-c9f8-4fff-d383-04e8360e4d50"
      },
      "outputs": [
        {
          "output_type": "stream",
          "name": "stdout",
          "text": [
            "              precision    recall  f1-score   support\n",
            "\n",
            "           0       0.88      0.97      0.92       703\n",
            "           1       0.90      0.69      0.78       297\n",
            "\n",
            "    accuracy                           0.89      1000\n",
            "   macro avg       0.89      0.83      0.85      1000\n",
            "weighted avg       0.89      0.89      0.88      1000\n",
            "\n"
          ]
        }
      ],
      "source": [
        "#computing the classification report of the model\n",
        "print(metrics.classification_report(y_test, y_test_log))"
      ]
    },
    {
      "cell_type": "code",
      "execution_count": 17,
      "metadata": {
        "id": "gKjKjW9tbAEn"
      },
      "outputs": [],
      "source": [
        "\n",
        "#Store the results\n",
        "storeResults('Logistic Regression',acc_test_log,f1_score_test_log,recall_score_train_log,precision_score_train_log)"
      ]
    },
    {
      "cell_type": "markdown",
      "metadata": {
        "id": "ooHqxi9bl5QI"
      },
      "source": [
        " * K-Nearest Neighbors : Classifier\n",
        "\n"
      ]
    },
    {
      "cell_type": "code",
      "execution_count": 18,
      "metadata": {
        "id": "JMiDSE0bly-D",
        "colab": {
          "base_uri": "https://localhost:8080/"
        },
        "outputId": "6e5c65e8-b9af-4da4-ff6e-479c1c2f2a80"
      },
      "outputs": [
        {
          "output_type": "stream",
          "name": "stdout",
          "text": [
            "K-Nearest Neighbors : Accuracy on training Data: 1.000\n",
            "K-Nearest Neighbors : Accuracy on test Data: 0.814\n",
            "\n",
            "K-Nearest Neighbors : f1_score on training Data: 1.000\n",
            "K-Nearest Neighbors : f1_score on test Data: 0.694\n",
            "\n",
            "K-Nearest Neighborsn : Recall on training Data: 1.000\n",
            "Logistic Regression : Recall on test Data: 0.710\n",
            "\n",
            "K-Nearest Neighbors : precision on training Data: 0.999\n",
            "K-Nearest Neighbors : precision on test Data: 0.678\n"
          ]
        }
      ],
      "source": [
        "#instantiate the model\n",
        "knn = KNeighborsClassifier(n_neighbors=1)\n",
        "\n",
        "#fit the model\n",
        "knn.fit(X_train,y_train)\n",
        "\n",
        "#predicting the target value from the model for the samples\n",
        "y_train_knn = knn.predict(X_train)\n",
        "y_test_knn = knn.predict(X_test)\n",
        "\n",
        "#computing accuracy, score, recall, precision of the model\n",
        "acc_train_knn = metrics.accuracy_score(y_train,y_train_knn)\n",
        "acc_test_knn = metrics.accuracy_score(y_test,y_test_knn)\n",
        "print(\"K-Nearest Neighbors : Accuracy on training Data: {:.3f}\".format(acc_train_knn))\n",
        "print(\"K-Nearest Neighbors : Accuracy on test Data: {:.3f}\".format(acc_test_knn))\n",
        "print()\n",
        "\n",
        "f1_score_train_knn = metrics.f1_score(y_train,y_train_knn)\n",
        "f1_score_test_knn = metrics.f1_score(y_test,y_test_knn)\n",
        "print(\"K-Nearest Neighbors : f1_score on training Data: {:.3f}\".format(f1_score_train_knn))\n",
        "print(\"K-Nearest Neighbors : f1_score on test Data: {:.3f}\".format(f1_score_test_knn))\n",
        "print()\n",
        "\n",
        "recall_score_train_knn = metrics.recall_score(y_train,y_train_knn)\n",
        "recall_score_test_knn = metrics.recall_score(y_test,y_test_knn)\n",
        "print(\"K-Nearest Neighborsn : Recall on training Data: {:.3f}\".format(recall_score_train_knn))\n",
        "print(\"Logistic Regression : Recall on test Data: {:.3f}\".format(recall_score_test_knn))\n",
        "print()\n",
        "\n",
        "precision_score_train_knn = metrics.precision_score(y_train,y_train_knn)\n",
        "precision_score_test_knn = metrics.precision_score(y_test,y_test_knn)\n",
        "print(\"K-Nearest Neighbors : precision on training Data: {:.3f}\".format(precision_score_train_knn))\n",
        "print(\"K-Nearest Neighbors : precision on test Data: {:.3f}\".format(precision_score_test_knn))"
      ]
    },
    {
      "cell_type": "code",
      "execution_count": 19,
      "metadata": {
        "colab": {
          "base_uri": "https://localhost:8080/"
        },
        "id": "LE1FYcYcbAEn",
        "outputId": "d8d1a090-a0e3-4338-f72a-f1e226e1eda4"
      },
      "outputs": [
        {
          "output_type": "stream",
          "name": "stdout",
          "text": [
            "              precision    recall  f1-score   support\n",
            "\n",
            "           0       0.88      0.86      0.87       703\n",
            "           1       0.68      0.71      0.69       297\n",
            "\n",
            "    accuracy                           0.81      1000\n",
            "   macro avg       0.78      0.78      0.78      1000\n",
            "weighted avg       0.82      0.81      0.82      1000\n",
            "\n"
          ]
        }
      ],
      "source": [
        "\n",
        "#computing the classification report of the model\n",
        "print(metrics.classification_report(y_test, y_test_knn))"
      ]
    },
    {
      "cell_type": "code",
      "execution_count": 20,
      "metadata": {
        "id": "49TY0HEEmeJr",
        "colab": {
          "base_uri": "https://localhost:8080/",
          "height": 450
        },
        "outputId": "35de47d6-f9e4-4977-935b-cbb2182a65e6"
      },
      "outputs": [
        {
          "output_type": "display_data",
          "data": {
            "text/plain": [
              "<Figure size 640x480 with 1 Axes>"
            ],
            "image/png": "[encoded data removed]"
          },
          "metadata": {}
        }
      ],
      "source": [
        "#tuning hyperparameters for KNN\n",
        "training_accuracy = []\n",
        "test_accuracy = []\n",
        "depth = range(1,20)\n",
        "for n in depth:\n",
        "    knn = KNeighborsClassifier(n_neighbors=n)\n",
        "\n",
        "    knn.fit(X_train, y_train)\n",
        "    # record training set accuracy\n",
        "    training_accuracy.append(knn.score(X_train, y_train))\n",
        "    # record generalization accuracy\n",
        "    test_accuracy.append(knn.score(X_test, y_test))\n",
        "\n",
        "\n",
        "\n",
        "\n",
        "#plotting the training & testing accuracy for n_estimators from 1 to 20\n",
        "plt.plot(depth, training_accuracy, label=\"training accuracy\")\n",
        "plt.plot(depth, test_accuracy, label=\"test accuracy\")\n",
        "plt.ylabel(\"Accuracy\")\n",
        "plt.xlabel(\"n_neighbors\")\n",
        "plt.legend();"
      ]
    },
    {
      "cell_type": "code",
      "execution_count": 21,
      "metadata": {
        "id": "EGKSvtmdbAEo"
      },
      "outputs": [],
      "source": [
        "#store results\n",
        "storeResults('K-Nearest Neighbors',acc_test_knn,f1_score_test_knn,recall_score_train_knn,precision_score_train_knn)"
      ]
    },
    {
      "cell_type": "markdown",
      "metadata": {
        "id": "G9DnQfPdmuZw"
      },
      "source": [
        "* Support Vector Machine : Classifier"
      ]
    },
    {
      "cell_type": "code",
      "execution_count": 22,
      "metadata": {
        "id": "7lG4icT1mqEv",
        "colab": {
          "base_uri": "https://localhost:8080/"
        },
        "outputId": "3dbfa555-2069-4ce4-e3ed-5fc172282f56"
      },
      "outputs": [
        {
          "output_type": "stream",
          "name": "stdout",
          "text": [
            "Support Vector Machine : Accuracy on training Data: 1.000\n",
            "Support Vector Machine : Accuracy on test Data: 0.892\n",
            "\n",
            "Support Vector Machine : f1_score on training Data: 0.999\n",
            "Support Vector Machine : f1_score on test Data: 0.798\n",
            "\n",
            "Support Vector Machine : Recall on training Data: 0.999\n",
            "Support Vector Machine : Recall on test Data: 0.717\n",
            "\n",
            "Support Vector Machine : precision on training Data: 0.999\n",
            "Support Vector Machine : precision on test Data: 0.899\n"
          ]
        }
      ],
      "source": [
        "# defining parameter range\n",
        "param_grid = {'gamma': [0.1],'kernel': ['rbf','linear']}\n",
        "\n",
        "#instantiating the model\n",
        "svc = GridSearchCV(SVC(), param_grid)\n",
        "\n",
        "# fitting the model for grid search\n",
        "svc.fit(X_train, y_train)\n",
        "\n",
        "#predicting the target value from the model for the samples\n",
        "y_train_svc = svc.predict(X_train)\n",
        "y_test_svc = svc.predict(X_test)\n",
        "\n",
        "#computing accuracy, score, recall, precision of the model\n",
        "acc_train_svc = metrics.accuracy_score(y_train,y_train_svc)\n",
        "acc_test_svc = metrics.accuracy_score(y_test,y_test_svc)\n",
        "print(\"Support Vector Machine : Accuracy on training Data: {:.3f}\".format(acc_train_svc))\n",
        "print(\"Support Vector Machine : Accuracy on test Data: {:.3f}\".format(acc_test_svc))\n",
        "print()\n",
        "\n",
        "f1_score_train_svc = metrics.f1_score(y_train,y_train_svc)\n",
        "f1_score_test_svc = metrics.f1_score(y_test,y_test_svc)\n",
        "print(\"Support Vector Machine : f1_score on training Data: {:.3f}\".format(f1_score_train_svc))\n",
        "print(\"Support Vector Machine : f1_score on test Data: {:.3f}\".format(f1_score_test_svc))\n",
        "print()\n",
        "\n",
        "recall_score_train_svc = metrics.recall_score(y_train,y_train_svc)\n",
        "recall_score_test_svc = metrics.recall_score(y_test,y_test_svc)\n",
        "print(\"Support Vector Machine : Recall on training Data: {:.3f}\".format(recall_score_train_svc))\n",
        "print(\"Support Vector Machine : Recall on test Data: {:.3f}\".format(recall_score_test_svc))\n",
        "print()\n",
        "\n",
        "precision_score_train_svc = metrics.precision_score(y_train,y_train_svc)\n",
        "precision_score_test_svc = metrics.precision_score(y_test,y_test_svc)\n",
        "print(\"Support Vector Machine : precision on training Data: {:.3f}\".format(precision_score_train_svc))\n",
        "print(\"Support Vector Machine : precision on test Data: {:.3f}\".format(precision_score_test_svc))"
      ]
    },
    {
      "cell_type": "code",
      "execution_count": 23,
      "metadata": {
        "id": "jrlgn3X8nwe9",
        "colab": {
          "base_uri": "https://localhost:8080/"
        },
        "outputId": "93b8febd-0663-4f2c-d7da-e6ccf6b846d3"
      },
      "outputs": [
        {
          "output_type": "stream",
          "name": "stdout",
          "text": [
            "              precision    recall  f1-score   support\n",
            "\n",
            "           0       0.89      0.97      0.93       703\n",
            "           1       0.90      0.72      0.80       297\n",
            "\n",
            "    accuracy                           0.89      1000\n",
            "   macro avg       0.89      0.84      0.86      1000\n",
            "weighted avg       0.89      0.89      0.89      1000\n",
            "\n"
          ]
        }
      ],
      "source": [
        "#computing the classification report of the model\n",
        "print(metrics.classification_report(y_test, y_test_svc))\n"
      ]
    },
    {
      "cell_type": "code",
      "execution_count": 24,
      "metadata": {
        "id": "zIoZrpqkbAEp"
      },
      "outputs": [],
      "source": [
        "#Store the results\n",
        "storeResults('Support Vector Machine',acc_test_svc,f1_score_test_svc,recall_score_train_svc,precision_score_train_svc)"
      ]
    },
    {
      "cell_type": "code",
      "source": [],
      "metadata": {
        "id": "cagYva1uPJlQ"
      },
      "execution_count": 24,
      "outputs": []
    },
    {
      "cell_type": "markdown",
      "metadata": {
        "id": "ql7DqjcBoWKt"
      },
      "source": [
        "* Decision Tree"
      ]
    },
    {
      "cell_type": "code",
      "execution_count": 25,
      "metadata": {
        "id": "x4PEDz_UoXto",
        "colab": {
          "base_uri": "https://localhost:8080/"
        },
        "outputId": "d3b26c6a-d8dc-443d-c10d-e2bf1fdfc4dc"
      },
      "outputs": [
        {
          "output_type": "stream",
          "name": "stdout",
          "text": [
            "Decision Tree : Accuracy on training Data: 0.918\n",
            "Decision Tree : Accuracy on test Data: 0.868\n",
            "\n",
            "Decision Tree : f1_score on training Data: 0.844\n",
            "Decision Tree : f1_score on test Data: 0.756\n",
            "\n",
            "Decision Tree : Recall on training Data: 0.775\n",
            "Decision Tree : Recall on test Data: 0.690\n",
            "\n",
            "Decision Tree : precision on training Data: 0.926\n",
            "Decision Tree : precision on test Data: 0.837\n"
          ]
        }
      ],
      "source": [
        "#instantiate the model\n",
        "tree = DecisionTreeClassifier(max_depth=25)\n",
        "\n",
        "#fit the model\n",
        "tree.fit(X_train, y_train)\n",
        "\n",
        "#predicting the target value from the model for the samples\n",
        "y_train_tree = tree.predict(X_train)\n",
        "y_test_tree = tree.predict(X_test)\n",
        "\n",
        "#computing accuracy, score, recall, precision of the model\n",
        "acc_train_tree = metrics.accuracy_score(y_train,y_train_tree)\n",
        "acc_test_tree = metrics.accuracy_score(y_test,y_test_tree)\n",
        "print(\"Decision Tree : Accuracy on training Data: {:.3f}\".format(acc_train_tree))\n",
        "print(\"Decision Tree : Accuracy on test Data: {:.3f}\".format(acc_test_tree))\n",
        "print()\n",
        "\n",
        "f1_score_train_tree = metrics.f1_score(y_train,y_train_tree)\n",
        "f1_score_test_tree = metrics.f1_score(y_test,y_test_tree)\n",
        "print(\"Decision Tree : f1_score on training Data: {:.3f}\".format(f1_score_train_tree))\n",
        "print(\"Decision Tree : f1_score on test Data: {:.3f}\".format(f1_score_test_tree))\n",
        "print()\n",
        "\n",
        "recall_score_train_tree = metrics.recall_score(y_train,y_train_tree)\n",
        "recall_score_test_tree = metrics.recall_score(y_test,y_test_tree)\n",
        "print(\"Decision Tree : Recall on training Data: {:.3f}\".format(recall_score_train_tree))\n",
        "print(\"Decision Tree : Recall on test Data: {:.3f}\".format(recall_score_test_tree))\n",
        "print()\n",
        "\n",
        "precision_score_train_tree = metrics.precision_score(y_train,y_train_tree)\n",
        "precision_score_test_tree = metrics.precision_score(y_test,y_test_tree)\n",
        "print(\"Decision Tree : precision on training Data: {:.3f}\".format(precision_score_train_tree))\n",
        "print(\"Decision Tree : precision on test Data: {:.3f}\".format(precision_score_test_tree))\n"
      ]
    },
    {
      "cell_type": "code",
      "execution_count": 26,
      "metadata": {
        "id": "vGqQhJfapQkC",
        "colab": {
          "base_uri": "https://localhost:8080/"
        },
        "outputId": "4a90f6dc-58a0-486d-98f5-520ec72f5fa3"
      },
      "outputs": [
        {
          "output_type": "stream",
          "name": "stdout",
          "text": [
            "              precision    recall  f1-score   support\n",
            "\n",
            "           0       0.88      0.94      0.91       703\n",
            "           1       0.84      0.69      0.76       297\n",
            "\n",
            "    accuracy                           0.87      1000\n",
            "   macro avg       0.86      0.82      0.83      1000\n",
            "weighted avg       0.87      0.87      0.86      1000\n",
            "\n"
          ]
        }
      ],
      "source": [
        "#computing the classification report of the model\n",
        "print(metrics.classification_report(y_test, y_test_tree))"
      ]
    },
    {
      "cell_type": "code",
      "execution_count": 27,
      "metadata": {
        "id": "vUrEido8o-hU",
        "colab": {
          "base_uri": "https://localhost:8080/",
          "height": 450
        },
        "outputId": "22aa90fb-f6ab-4eb5-ff21-da7b085c3f85"
      },
      "outputs": [
        {
          "output_type": "display_data",
          "data": {
            "text/plain": [
              "<Figure size 640x480 with 1 Axes>"
            ],
            "image/png": "[encoded data removed]"
          },
          "metadata": {}
        }
      ],
      "source": [
        "#Hyperparamter Tuning\n",
        "training_accuracy = []\n",
        "test_accuracy = []\n",
        "\n",
        "depth = range(1,30)\n",
        "for n in depth:\n",
        "    tree_test = DecisionTreeClassifier(max_depth=n)\n",
        "\n",
        "    tree_test.fit(X_train, y_train)\n",
        "    # record training set accuracy\n",
        "    training_accuracy.append(tree_test.score(X_train, y_train))\n",
        "    # record generalization accuracy\n",
        "\n",
        "\n",
        "    test_accuracy.append(tree_test.score(X_test, y_test))\n",
        "\n",
        "#plotting the training & testing accuracy for max_depth from 1 to 30\n",
        "plt.plot(depth, training_accuracy, label=\"training accuracy\")\n",
        "plt.plot(depth, test_accuracy, label=\"test accuracy\")\n",
        "plt.ylabel(\"Accuracy\")\n",
        "plt.xlabel(\"max_depth\")\n",
        "plt.legend();"
      ]
    },
    {
      "cell_type": "code",
      "execution_count": 28,
      "metadata": {
        "id": "WMGv1zXcpm7i"
      },
      "outputs": [],
      "source": [
        "#Store the results\n",
        "storeResults('Decision Tree',acc_test_tree,f1_score_test_tree,recall_score_train_tree,precision_score_train_tree)"
      ]
    },
    {
      "cell_type": "markdown",
      "metadata": {
        "id": "G4npCpBHpvUQ"
      },
      "source": [
        "* Random Forest"
      ]
    },
    {
      "cell_type": "code",
      "execution_count": 29,
      "metadata": {
        "id": "wWbPDnapp8tM",
        "colab": {
          "base_uri": "https://localhost:8080/"
        },
        "outputId": "d4dc6d54-92c9-4f37-de0e-3bacffdd0c81"
      },
      "outputs": [
        {
          "output_type": "stream",
          "name": "stdout",
          "text": [
            "Random Forest : Accuracy on training Data: 0.992\n",
            "Random Forest : Accuracy on test Data: 0.882\n",
            "\n",
            "Random Forest : f1_score on training Data: 0.985\n",
            "Random Forest : f1_score on test Data: 0.781\n",
            "\n",
            "Random Forest : Recall on training Data: 0.974\n",
            "Random Forest : Recall on test Data: 0.707\n",
            "\n",
            "Random Forest : precision on training Data: 0.996\n",
            "Random Forest : precision on test Data: 0.837\n"
          ]
        }
      ],
      "source": [
        "#instantiate the model\n",
        "forest = RandomForestClassifier(n_estimators=13)\n",
        "\n",
        "#fit the model\n",
        "forest.fit(X_train,y_train)\n",
        "\n",
        "#predicting the target value from the model for the samples\n",
        "y_train_forest = forest.predict(X_train)\n",
        "y_test_forest = forest.predict(X_test)\n",
        "\n",
        "#computing accuracy, score, recall, precision of the model\n",
        "acc_train_forest = metrics.accuracy_score(y_train,y_train_forest)\n",
        "acc_test_forest = metrics.accuracy_score(y_test,y_test_forest)\n",
        "print(\"Random Forest : Accuracy on training Data: {:.3f}\".format(acc_train_forest))\n",
        "print(\"Random Forest : Accuracy on test Data: {:.3f}\".format(acc_test_forest))\n",
        "print()\n",
        "\n",
        "f1_score_train_forest = metrics.f1_score(y_train,y_train_forest)\n",
        "f1_score_test_forest = metrics.f1_score(y_test,y_test_forest)\n",
        "print(\"Random Forest : f1_score on training Data: {:.3f}\".format(f1_score_train_forest))\n",
        "print(\"Random Forest : f1_score on test Data: {:.3f}\".format(f1_score_test_forest))\n",
        "print()\n",
        "\n",
        "recall_score_train_forest = metrics.recall_score(y_train,y_train_forest)\n",
        "recall_score_test_forest = metrics.recall_score(y_test,y_test_forest)\n",
        "print(\"Random Forest : Recall on training Data: {:.3f}\".format(recall_score_train_forest))\n",
        "print(\"Random Forest : Recall on test Data: {:.3f}\".format(recall_score_test_forest))\n",
        "print()\n",
        "\n",
        "precision_score_train_forest = metrics.precision_score(y_train,y_train_forest)\n",
        "precision_score_test_forest = metrics.precision_score(y_test,y_test_tree)\n",
        "print(\"Random Forest : precision on training Data: {:.3f}\".format(precision_score_train_forest))\n",
        "print(\"Random Forest : precision on test Data: {:.3f}\".format(precision_score_test_forest))"
      ]
    },
    {
      "cell_type": "code",
      "execution_count": 30,
      "metadata": {
        "id": "7PZx36K_qJ0Y",
        "colab": {
          "base_uri": "https://localhost:8080/"
        },
        "outputId": "aa6cfe0f-0f08-41dc-d037-e2a44b0b3351"
      },
      "outputs": [
        {
          "output_type": "stream",
          "name": "stdout",
          "text": [
            "              precision    recall  f1-score   support\n",
            "\n",
            "           0       0.89      0.96      0.92       703\n",
            "           1       0.87      0.71      0.78       297\n",
            "\n",
            "    accuracy                           0.88      1000\n",
            "   macro avg       0.88      0.83      0.85      1000\n",
            "weighted avg       0.88      0.88      0.88      1000\n",
            "\n"
          ]
        }
      ],
      "source": [
        "#computing the classification report of the model\n",
        "print(metrics.classification_report(y_test, y_test_forest))"
      ]
    },
    {
      "cell_type": "code",
      "execution_count": 31,
      "metadata": {
        "id": "fJ3HverfqPKF"
      },
      "outputs": [],
      "source": [
        "#Store the results\n",
        "storeResults('Random Forest',acc_test_forest,f1_score_test_forest,recall_score_train_forest,precision_score_train_forest)"
      ]
    },
    {
      "cell_type": "markdown",
      "metadata": {
        "id": "S0aypqYVqu8x"
      },
      "source": [
        "* Gradient Descent"
      ]
    },
    {
      "cell_type": "code",
      "execution_count": 32,
      "metadata": {
        "id": "kbtXsL8Bqr_K",
        "colab": {
          "base_uri": "https://localhost:8080/"
        },
        "outputId": "5f898730-dc18-4f78-ec35-4a19e6e12d22"
      },
      "outputs": [
        {
          "output_type": "stream",
          "name": "stdout",
          "text": [
            "Gradient Boost: Accuracy on training Data: 0.989\n",
            "Gradient Boost: Accuracy on test Data: 0.863\n",
            "\n",
            "Gradient Boost : f1_score on training Data: 0.980\n",
            "Gradient Boost : f1_score on test Data: 0.736\n",
            "\n",
            "Gradient Boost : Recall on training Data: 0.992\n",
            "Gradient Boost : Recall on test Data: 0.992\n",
            "\n",
            "Gradient Boost : precision on training Data: 0.968\n",
            "Gradient Boost : precision on test Data: 0.968\n"
          ]
        }
      ],
      "source": [
        "#instantiate the model\n",
        "gbc = GradientBoostingClassifier(max_depth=4,learning_rate=0.7)\n",
        "\n",
        "#fit the model\n",
        "gbc.fit(X_train,y_train)\n",
        "\n",
        "#predicting the target value from the model for the samples\n",
        "y_train_gbc = gbc.predict(X_train)\n",
        "y_test_gbc = gbc.predict(X_test)\n",
        "\n",
        "#computing accuracy, score, recall, precision of the model\n",
        "acc_train_gbc = metrics.accuracy_score(y_train,y_train_gbc)\n",
        "acc_test_gbc = metrics.accuracy_score(y_test,y_test_gbc)\n",
        "print(\"Gradient Boost: Accuracy on training Data: {:.3f}\".format(acc_train_gbc))\n",
        "print(\"Gradient Boost: Accuracy on test Data: {:.3f}\".format(acc_test_gbc))\n",
        "print()\n",
        "\n",
        "f1_score_train_gbc = metrics.f1_score(y_train,y_train_gbc)\n",
        "f1_score_test_gbc = metrics.f1_score(y_test,y_test_gbc)\n",
        "print(\"Gradient Boost : f1_score on training Data: {:.3f}\".format(f1_score_train_gbc))\n",
        "print(\"Gradient Boost : f1_score on test Data: {:.3f}\".format(f1_score_test_gbc))\n",
        "print()\n",
        "\n",
        "recall_score_train_gbc = metrics.recall_score(y_train,y_train_gbc)\n",
        "recall_score_test_gbc = metrics.recall_score(y_test,y_test_gbc)\n",
        "print(\"Gradient Boost : Recall on training Data: {:.3f}\".format(recall_score_train_gbc))\n",
        "print(\"Gradient Boost : Recall on test Data: {:.3f}\".format(recall_score_train_gbc))\n",
        "print()\n",
        "\n",
        "precision_score_train_gbc = metrics.precision_score(y_train,y_train_gbc)\n",
        "precision_score_test_gbc = metrics.precision_score(y_test,y_test_gbc)\n",
        "print(\"Gradient Boost : precision on training Data: {:.3f}\".format(precision_score_train_gbc))\n",
        "print(\"Gradient Boost : precision on test Data: {:.3f}\".format(precision_score_train_gbc))"
      ]
    },
    {
      "cell_type": "code",
      "execution_count": 33,
      "metadata": {
        "colab": {
          "base_uri": "https://localhost:8080/"
        },
        "id": "Wf7O0XXRbAE1",
        "outputId": "4b4e49ae-6a40-4476-c01e-94e74170fef9"
      },
      "outputs": [
        {
          "output_type": "stream",
          "name": "stdout",
          "text": [
            "              precision    recall  f1-score   support\n",
            "\n",
            "           0       0.86      0.96      0.91       703\n",
            "           1       0.86      0.64      0.74       297\n",
            "\n",
            "    accuracy                           0.86      1000\n",
            "   macro avg       0.86      0.80      0.82      1000\n",
            "weighted avg       0.86      0.86      0.86      1000\n",
            "\n"
          ]
        }
      ],
      "source": [
        "#computing the classification report of the model\n",
        "print(metrics.classification_report(y_test, y_test_gbc))"
      ]
    },
    {
      "cell_type": "code",
      "execution_count": 34,
      "metadata": {
        "id": "-HCm-c8_tN-y"
      },
      "outputs": [],
      "source": [
        "#Store the results\n",
        "storeResults('Gradient Boost ',acc_test_gbc,f1_score_test_gbc,recall_score_train_gbc,precision_score_train_gbc)"
      ]
    },
    {
      "cell_type": "markdown",
      "metadata": {
        "id": "EqsMmOJ9tS8D"
      },
      "source": [
        "### Analysing Results"
      ]
    },
    {
      "cell_type": "code",
      "execution_count": 35,
      "metadata": {
        "id": "SYO7rrjQtZh5",
        "colab": {
          "base_uri": "https://localhost:8080/",
          "height": 238
        },
        "outputId": "0a9e83d0-d855-442e-c980-4aff8121014d"
      },
      "outputs": [
        {
          "output_type": "execute_result",
          "data": {
            "text/plain": [
              "                 ML Model  Accuracy  f1_score  Recall  Precision\n",
              "0     Logistic Regression     0.887     0.785   0.890      0.993\n",
              "1     K-Nearest Neighbors     0.814     0.694   1.000      0.999\n",
              "2  Support Vector Machine     0.892     0.798   0.999      0.999\n",
              "3           Decision Tree     0.868     0.756   0.775      0.926\n",
              "4           Random Forest     0.882     0.781   0.974      0.996\n",
              "5         Gradient Boost      0.863     0.736   0.992      0.968"
            ],
            "text/html": [
              "\n",
              "\n",
              "  <div id=\"df-81022f95-1886-44ab-aa3b-c178dbb0b2ca\">\n",
              "    <div class=\"colab-df-container\">\n",
              "      <div>\n",
              "<style scoped>\n",
              "    .dataframe tbody tr th:only-of-type {\n",
              "        vertical-align: middle;\n",
              "    }\n",
              "\n",
              "    .dataframe tbody tr th {\n",
              "        vertical-align: top;\n",
              "    }\n",
              "\n",
              "    .dataframe thead th {\n",
              "        text-align: right;\n",
              "    }\n",
              "</style>\n",
              "<table border=\"1\" class=\"dataframe\">\n",
              "  <thead>\n",
              "    <tr style=\"text-align: right;\">\n",
              "      <th></th>\n",
              "      <th>ML Model</th>\n",
              "      <th>Accuracy</th>\n",
              "      <th>f1_score</th>\n",
              "      <th>Recall</th>\n",
              "      <th>Precision</th>\n",
              "    </tr>\n",
              "  </thead>\n",
              "  <tbody>\n",
              "    <tr>\n",
              "      <th>0</th>\n",
              "      <td>Logistic Regression</td>\n",
              "      <td>0.887</td>\n",
              "      <td>0.785</td>\n",
              "      <td>0.890</td>\n",
              "      <td>0.993</td>\n",
              "    </tr>\n",
              "    <tr>\n",
              "      <th>1</th>\n",
              "      <td>K-Nearest Neighbors</td>\n",
              "      <td>0.814</td>\n",
              "      <td>0.694</td>\n",
              "      <td>1.000</td>\n",
              "      <td>0.999</td>\n",
              "    </tr>\n",
              "    <tr>\n",
              "      <th>2</th>\n",
              "      <td>Support Vector Machine</td>\n",
              "      <td>0.892</td>\n",
              "      <td>0.798</td>\n",
              "      <td>0.999</td>\n",
              "      <td>0.999</td>\n",
              "    </tr>\n",
              "    <tr>\n",
              "      <th>3</th>\n",
              "      <td>Decision Tree</td>\n",
              "      <td>0.868</td>\n",
              "      <td>0.756</td>\n",
              "      <td>0.775</td>\n",
              "      <td>0.926</td>\n",
              "    </tr>\n",
              "    <tr>\n",
              "      <th>4</th>\n",
              "      <td>Random Forest</td>\n",
              "      <td>0.882</td>\n",
              "      <td>0.781</td>\n",
              "      <td>0.974</td>\n",
              "      <td>0.996</td>\n",
              "    </tr>\n",
              "    <tr>\n",
              "      <th>5</th>\n",
              "      <td>Gradient Boost</td>\n",
              "      <td>0.863</td>\n",
              "      <td>0.736</td>\n",
              "      <td>0.992</td>\n",
              "      <td>0.968</td>\n",
              "    </tr>\n",
              "  </tbody>\n",
              "</table>\n",
              "</div>\n",
              "      <button class=\"colab-df-convert\" onclick=\"convertToInteractive('df-81022f95-1886-44ab-aa3b-c178dbb0b2ca')\"\n",
              "              title=\"Convert this dataframe to an interactive table.\"\n",
              "              style=\"display:none;\">\n",
              "\n",
              "  <svg xmlns=\"http://www.w3.org/2000/svg\" height=\"24px\"viewBox=\"0 0 24 24\"\n",
              "       width=\"24px\">\n",
              "    <path d=\"M0 0h24v24H0V0z\" fill=\"none\"/>\n",
              "    <path d=\"M18.56 5.44l.94 2.06.94-2.06 2.06-.94-2.06-.94-.94-2.06-.94 2.06-2.06.94zm-11 1L8.5 8.5l.94-2.06 2.06-.94-2.06-.94L8.5 2.5l-.94 2.06-2.06.94zm10 10l.94 2.06.94-2.06 2.06-.94-2.06-.94-.94-2.06-.94 2.06-2.06.94z\"/><path d=\"M17.41 7.96l-1.37-1.37c-.4-.4-.92-.59-1.43-.59-.52 0-1.04.2-1.43.59L10.3 9.45l-7.72 7.72c-.78.78-.78 2.05 0 2.83L4 21.41c.39.39.9.59 1.41.59.51 0 1.02-.2 1.41-.59l7.78-7.78 2.81-2.81c.8-.78.8-2.07 0-2.86zM5.41 20L4 18.59l7.72-7.72 1.47 1.35L5.41 20z\"/>\n",
              "  </svg>\n",
              "      </button>\n",
              "\n",
              "\n",
              "\n",
              "    <div id=\"df-0fe0483e-57c1-4f32-aa9c-ff8cf676efea\">\n",
              "      <button class=\"colab-df-quickchart\" onclick=\"quickchart('df-0fe0483e-57c1-4f32-aa9c-ff8cf676efea')\"\n",
              "              title=\"Suggest charts.\"\n",
              "              style=\"display:none;\">\n",
              "\n",
              "<svg xmlns=\"http://www.w3.org/2000/svg\" height=\"24px\"viewBox=\"0 0 24 24\"\n",
              "     width=\"24px\">\n",
              "    <g>\n",
              "        <path d=\"M19 3H5c-1.1 0-2 .9-2 2v14c0 1.1.9 2 2 2h14c1.1 0 2-.9 2-2V5c0-1.1-.9-2-2-2zM9 17H7v-7h2v7zm4 0h-2V7h2v10zm4 0h-2v-4h2v4z\"/>\n",
              "    </g>\n",
              "</svg>\n",
              "      </button>\n",
              "    </div>\n",
              "\n",
              "<style>\n",
              "  .colab-df-quickchart {\n",
              "    background-color: #E8F0FE;\n",
              "    border: none;\n",
              "    border-radius: 50%;\n",
              "    cursor: pointer;\n",
              "    display: none;\n",
              "    fill: #1967D2;\n",
              "    height: 32px;\n",
              "    padding: 0 0 0 0;\n",
              "    width: 32px;\n",
              "  }\n",
              "\n",
              "  .colab-df-quickchart:hover {\n",
              "    background-color: #E2EBFA;\n",
              "    box-shadow: 0px 1px 2px rgba(60, 64, 67, 0.3), 0px 1px 3px 1px rgba(60, 64, 67, 0.15);\n",
              "    fill: #174EA6;\n",
              "  }\n",
              "\n",
              "  [theme=dark] .colab-df-quickchart {\n",
              "    background-color: #3B4455;\n",
              "    fill: #D2E3FC;\n",
              "  }\n",
              "\n",
              "  [theme=dark] .colab-df-quickchart:hover {\n",
              "    background-color: #434B5C;\n",
              "    box-shadow: 0px 1px 3px 1px rgba(0, 0, 0, 0.15);\n",
              "    filter: drop-shadow(0px 1px 2px rgba(0, 0, 0, 0.3));\n",
              "    fill: #FFFFFF;\n",
              "  }\n",
              "</style>\n",
              "\n",
              "    <script>\n",
              "      async function quickchart(key) {\n",
              "        const containerElement = document.querySelector('#' + key);\n",
              "        const charts = await google.colab.kernel.invokeFunction(\n",
              "            'suggestCharts', [key], {});\n",
              "      }\n",
              "    </script>\n",
              "\n",
              "      <script>\n",
              "\n",
              "function displayQuickchartButton(domScope) {\n",
              "  let quickchartButtonEl =\n",
              "    domScope.querySelector('#df-0fe0483e-57c1-4f32-aa9c-ff8cf676efea button.colab-df-quickchart');\n",
              "  quickchartButtonEl.style.display =\n",
              "    google.colab.kernel.accessAllowed ? 'block' : 'none';\n",
              "}\n",
              "\n",
              "        displayQuickchartButton(document);\n",
              "      </script>\n",
              "      <style>\n",
              "    .colab-df-container {\n",
              "      display:flex;\n",
              "      flex-wrap:wrap;\n",
              "      gap: 12px;\n",
              "    }\n",
              "\n",
              "    .colab-df-convert {\n",
              "      background-color: #E8F0FE;\n",
              "      border: none;\n",
              "      border-radius: 50%;\n",
              "      cursor: pointer;\n",
              "      display: none;\n",
              "      fill: #1967D2;\n",
              "      height: 32px;\n",
              "      padding: 0 0 0 0;\n",
              "      width: 32px;\n",
              "    }\n",
              "\n",
              "    .colab-df-convert:hover {\n",
              "      background-color: #E2EBFA;\n",
              "      box-shadow: 0px 1px 2px rgba(60, 64, 67, 0.3), 0px 1px 3px 1px rgba(60, 64, 67, 0.15);\n",
              "      fill: #174EA6;\n",
              "    }\n",
              "\n",
              "    [theme=dark] .colab-df-convert {\n",
              "      background-color: #3B4455;\n",
              "      fill: #D2E3FC;\n",
              "    }\n",
              "\n",
              "    [theme=dark] .colab-df-convert:hover {\n",
              "      background-color: #434B5C;\n",
              "      box-shadow: 0px 1px 3px 1px rgba(0, 0, 0, 0.15);\n",
              "      filter: drop-shadow(0px 1px 2px rgba(0, 0, 0, 0.3));\n",
              "      fill: #FFFFFF;\n",
              "    }\n",
              "  </style>\n",
              "\n",
              "      <script>\n",
              "        const buttonEl =\n",
              "          document.querySelector('#df-81022f95-1886-44ab-aa3b-c178dbb0b2ca button.colab-df-convert');\n",
              "        buttonEl.style.display =\n",
              "          google.colab.kernel.accessAllowed ? 'block' : 'none';\n",
              "\n",
              "        async function convertToInteractive(key) {\n",
              "          const element = document.querySelector('#df-81022f95-1886-44ab-aa3b-c178dbb0b2ca');\n",
              "          const dataTable =\n",
              "            await google.colab.kernel.invokeFunction('convertToInteractive',\n",
              "                                                     [key], {});\n",
              "          if (!dataTable) return;\n",
              "\n",
              "          const docLinkHtml = 'Like what you see? Visit the ' +\n",
              "            '<a target=\"_blank\" href=https://colab.research.google.com/notebooks/data_table.ipynb>data table notebook</a>'\n",
              "            + ' to learn more about interactive tables.';\n",
              "          element.innerHTML = '';\n",
              "          dataTable['output_type'] = 'display_data';\n",
              "          await google.colab.output.renderOutput(dataTable, element);\n",
              "          const docLink = document.createElement('div');\n",
              "          docLink.innerHTML = docLinkHtml;\n",
              "          element.appendChild(docLink);\n",
              "        }\n",
              "      </script>\n",
              "    </div>\n",
              "  </div>\n"
            ]
          },
          "metadata": {},
          "execution_count": 35
        }
      ],
      "source": [
        "#Converting Results to dataframe\n",
        "\n",
        "result = pd.DataFrame({ 'ML Model' : ml_model,\n",
        "                        'Accuracy' : accuracy,\n",
        "                        'f1_score' : f1_score,\n",
        "                        'Recall'   : recall,\n",
        "                        'Precision': precision,\n",
        "                      })\n",
        "\n",
        "result"
      ]
    },
    {
      "cell_type": "code",
      "execution_count": 36,
      "metadata": {
        "id": "N0UAxqV4to4q",
        "colab": {
          "base_uri": "https://localhost:8080/",
          "height": 238
        },
        "outputId": "1db875a9-0773-49fb-9df5-5e3bf937886d"
      },
      "outputs": [
        {
          "output_type": "execute_result",
          "data": {
            "text/plain": [
              "                 ML Model  Accuracy  f1_score  Recall  Precision\n",
              "0  Support Vector Machine     0.892     0.798   0.999      0.999\n",
              "1     Logistic Regression     0.887     0.785   0.890      0.993\n",
              "2           Random Forest     0.882     0.781   0.974      0.996\n",
              "3           Decision Tree     0.868     0.756   0.775      0.926\n",
              "4         Gradient Boost      0.863     0.736   0.992      0.968\n",
              "5     K-Nearest Neighbors     0.814     0.694   1.000      0.999"
            ],
            "text/html": [
              "\n",
              "\n",
              "  <div id=\"df-cccd593b-9598-40a7-be56-918ea4c40ffb\">\n",
              "    <div class=\"colab-df-container\">\n",
              "      <div>\n",
              "<style scoped>\n",
              "    .dataframe tbody tr th:only-of-type {\n",
              "        vertical-align: middle;\n",
              "    }\n",
              "\n",
              "    .dataframe tbody tr th {\n",
              "        vertical-align: top;\n",
              "    }\n",
              "\n",
              "    .dataframe thead th {\n",
              "        text-align: right;\n",
              "    }\n",
              "</style>\n",
              "<table border=\"1\" class=\"dataframe\">\n",
              "  <thead>\n",
              "    <tr style=\"text-align: right;\">\n",
              "      <th></th>\n",
              "      <th>ML Model</th>\n",
              "      <th>Accuracy</th>\n",
              "      <th>f1_score</th>\n",
              "      <th>Recall</th>\n",
              "      <th>Precision</th>\n",
              "    </tr>\n",
              "  </thead>\n",
              "  <tbody>\n",
              "    <tr>\n",
              "      <th>0</th>\n",
              "      <td>Support Vector Machine</td>\n",
              "      <td>0.892</td>\n",
              "      <td>0.798</td>\n",
              "      <td>0.999</td>\n",
              "      <td>0.999</td>\n",
              "    </tr>\n",
              "    <tr>\n",
              "      <th>1</th>\n",
              "      <td>Logistic Regression</td>\n",
              "      <td>0.887</td>\n",
              "      <td>0.785</td>\n",
              "      <td>0.890</td>\n",
              "      <td>0.993</td>\n",
              "    </tr>\n",
              "    <tr>\n",
              "      <th>2</th>\n",
              "      <td>Random Forest</td>\n",
              "      <td>0.882</td>\n",
              "      <td>0.781</td>\n",
              "      <td>0.974</td>\n",
              "      <td>0.996</td>\n",
              "    </tr>\n",
              "    <tr>\n",
              "      <th>3</th>\n",
              "      <td>Decision Tree</td>\n",
              "      <td>0.868</td>\n",
              "      <td>0.756</td>\n",
              "      <td>0.775</td>\n",
              "      <td>0.926</td>\n",
              "    </tr>\n",
              "    <tr>\n",
              "      <th>4</th>\n",
              "      <td>Gradient Boost</td>\n",
              "      <td>0.863</td>\n",
              "      <td>0.736</td>\n",
              "      <td>0.992</td>\n",
              "      <td>0.968</td>\n",
              "    </tr>\n",
              "    <tr>\n",
              "      <th>5</th>\n",
              "      <td>K-Nearest Neighbors</td>\n",
              "      <td>0.814</td>\n",
              "      <td>0.694</td>\n",
              "      <td>1.000</td>\n",
              "      <td>0.999</td>\n",
              "    </tr>\n",
              "  </tbody>\n",
              "</table>\n",
              "</div>\n",
              "      <button class=\"colab-df-convert\" onclick=\"convertToInteractive('df-cccd593b-9598-40a7-be56-918ea4c40ffb')\"\n",
              "              title=\"Convert this dataframe to an interactive table.\"\n",
              "              style=\"display:none;\">\n",
              "\n",
              "  <svg xmlns=\"http://www.w3.org/2000/svg\" height=\"24px\"viewBox=\"0 0 24 24\"\n",
              "       width=\"24px\">\n",
              "    <path d=\"M0 0h24v24H0V0z\" fill=\"none\"/>\n",
              "    <path d=\"M18.56 5.44l.94 2.06.94-2.06 2.06-.94-2.06-.94-.94-2.06-.94 2.06-2.06.94zm-11 1L8.5 8.5l.94-2.06 2.06-.94-2.06-.94L8.5 2.5l-.94 2.06-2.06.94zm10 10l.94 2.06.94-2.06 2.06-.94-2.06-.94-.94-2.06-.94 2.06-2.06.94z\"/><path d=\"M17.41 7.96l-1.37-1.37c-.4-.4-.92-.59-1.43-.59-.52 0-1.04.2-1.43.59L10.3 9.45l-7.72 7.72c-.78.78-.78 2.05 0 2.83L4 21.41c.39.39.9.59 1.41.59.51 0 1.02-.2 1.41-.59l7.78-7.78 2.81-2.81c.8-.78.8-2.07 0-2.86zM5.41 20L4 18.59l7.72-7.72 1.47 1.35L5.41 20z\"/>\n",
              "  </svg>\n",
              "      </button>\n",
              "\n",
              "\n",
              "\n",
              "    <div id=\"df-3ee2441c-f5e6-4eae-844c-138bcdf54a78\">\n",
              "      <button class=\"colab-df-quickchart\" onclick=\"quickchart('df-3ee2441c-f5e6-4eae-844c-138bcdf54a78')\"\n",
              "              title=\"Suggest charts.\"\n",
              "              style=\"display:none;\">\n",
              "\n",
              "<svg xmlns=\"http://www.w3.org/2000/svg\" height=\"24px\"viewBox=\"0 0 24 24\"\n",
              "     width=\"24px\">\n",
              "    <g>\n",
              "        <path d=\"M19 3H5c-1.1 0-2 .9-2 2v14c0 1.1.9 2 2 2h14c1.1 0 2-.9 2-2V5c0-1.1-.9-2-2-2zM9 17H7v-7h2v7zm4 0h-2V7h2v10zm4 0h-2v-4h2v4z\"/>\n",
              "    </g>\n",
              "</svg>\n",
              "      </button>\n",
              "    </div>\n",
              "\n",
              "<style>\n",
              "  .colab-df-quickchart {\n",
              "    background-color: #E8F0FE;\n",
              "    border: none;\n",
              "    border-radius: 50%;\n",
              "    cursor: pointer;\n",
              "    display: none;\n",
              "    fill: #1967D2;\n",
              "    height: 32px;\n",
              "    padding: 0 0 0 0;\n",
              "    width: 32px;\n",
              "  }\n",
              "\n",
              "  .colab-df-quickchart:hover {\n",
              "    background-color: #E2EBFA;\n",
              "    box-shadow: 0px 1px 2px rgba(60, 64, 67, 0.3), 0px 1px 3px 1px rgba(60, 64, 67, 0.15);\n",
              "    fill: #174EA6;\n",
              "  }\n",
              "\n",
              "  [theme=dark] .colab-df-quickchart {\n",
              "    background-color: #3B4455;\n",
              "    fill: #D2E3FC;\n",
              "  }\n",
              "\n",
              "  [theme=dark] .colab-df-quickchart:hover {\n",
              "    background-color: #434B5C;\n",
              "    box-shadow: 0px 1px 3px 1px rgba(0, 0, 0, 0.15);\n",
              "    filter: drop-shadow(0px 1px 2px rgba(0, 0, 0, 0.3));\n",
              "    fill: #FFFFFF;\n",
              "  }\n",
              "</style>\n",
              "\n",
              "    <script>\n",
              "      async function quickchart(key) {\n",
              "        const containerElement = document.querySelector('#' + key);\n",
              "        const charts = await google.colab.kernel.invokeFunction(\n",
              "            'suggestCharts', [key], {});\n",
              "      }\n",
              "    </script>\n",
              "\n",
              "      <script>\n",
              "\n",
              "function displayQuickchartButton(domScope) {\n",
              "  let quickchartButtonEl =\n",
              "    domScope.querySelector('#df-3ee2441c-f5e6-4eae-844c-138bcdf54a78 button.colab-df-quickchart');\n",
              "  quickchartButtonEl.style.display =\n",
              "    google.colab.kernel.accessAllowed ? 'block' : 'none';\n",
              "}\n",
              "\n",
              "        displayQuickchartButton(document);\n",
              "      </script>\n",
              "      <style>\n",
              "    .colab-df-container {\n",
              "      display:flex;\n",
              "      flex-wrap:wrap;\n",
              "      gap: 12px;\n",
              "    }\n",
              "\n",
              "    .colab-df-convert {\n",
              "      background-color: #E8F0FE;\n",
              "      border: none;\n",
              "      border-radius: 50%;\n",
              "      cursor: pointer;\n",
              "      display: none;\n",
              "      fill: #1967D2;\n",
              "      height: 32px;\n",
              "      padding: 0 0 0 0;\n",
              "      width: 32px;\n",
              "    }\n",
              "\n",
              "    .colab-df-convert:hover {\n",
              "      background-color: #E2EBFA;\n",
              "      box-shadow: 0px 1px 2px rgba(60, 64, 67, 0.3), 0px 1px 3px 1px rgba(60, 64, 67, 0.15);\n",
              "      fill: #174EA6;\n",
              "    }\n",
              "\n",
              "    [theme=dark] .colab-df-convert {\n",
              "      background-color: #3B4455;\n",
              "      fill: #D2E3FC;\n",
              "    }\n",
              "\n",
              "    [theme=dark] .colab-df-convert:hover {\n",
              "      background-color: #434B5C;\n",
              "      box-shadow: 0px 1px 3px 1px rgba(0, 0, 0, 0.15);\n",
              "      filter: drop-shadow(0px 1px 2px rgba(0, 0, 0, 0.3));\n",
              "      fill: #FFFFFF;\n",
              "    }\n",
              "  </style>\n",
              "\n",
              "      <script>\n",
              "        const buttonEl =\n",
              "          document.querySelector('#df-cccd593b-9598-40a7-be56-918ea4c40ffb button.colab-df-convert');\n",
              "        buttonEl.style.display =\n",
              "          google.colab.kernel.accessAllowed ? 'block' : 'none';\n",
              "\n",
              "        async function convertToInteractive(key) {\n",
              "          const element = document.querySelector('#df-cccd593b-9598-40a7-be56-918ea4c40ffb');\n",
              "          const dataTable =\n",
              "            await google.colab.kernel.invokeFunction('convertToInteractive',\n",
              "                                                     [key], {});\n",
              "          if (!dataTable) return;\n",
              "\n",
              "          const docLinkHtml = 'Like what you see? Visit the ' +\n",
              "            '<a target=\"_blank\" href=https://colab.research.google.com/notebooks/data_table.ipynb>data table notebook</a>'\n",
              "            + ' to learn more about interactive tables.';\n",
              "          element.innerHTML = '';\n",
              "          dataTable['output_type'] = 'display_data';\n",
              "          await google.colab.output.renderOutput(dataTable, element);\n",
              "          const docLink = document.createElement('div');\n",
              "          docLink.innerHTML = docLinkHtml;\n",
              "          element.appendChild(docLink);\n",
              "        }\n",
              "      </script>\n",
              "    </div>\n",
              "  </div>\n"
            ]
          },
          "metadata": {},
          "execution_count": 36
        }
      ],
      "source": [
        "#Sorting the datafram on accuracy\n",
        "\n",
        "sorted_result=result.sort_values(by=['Accuracy', 'f1_score'],ascending=False).reset_index(drop=True)\n",
        "\n",
        "sorted_result"
      ]
    },
    {
      "cell_type": "markdown",
      "source": [
        "### Saving the best model"
      ],
      "metadata": {
        "id": "P9OGzVxkPZi0"
      }
    },
    {
      "cell_type": "code",
      "source": [
        "#exporting the model using pickle\n",
        "\n",
        "import pickle\n",
        "\n",
        "with open(\"PhishingDomainDetection.pkl\", \"wb\") as file:\n",
        "  pickle.dump(svc,file)"
      ],
      "metadata": {
        "id": "3VOu4xhgPMyp"
      },
      "execution_count": 37,
      "outputs": []
    },
    {
      "cell_type": "code",
      "source": [
        "with open(\"vectorizer.pkl\", \"wb\") as file:\n",
        "  pickle.dump(cv,file)"
      ],
      "metadata": {
        "id": "hSdGawM3V8y0"
      },
      "execution_count": 38,
      "outputs": []
    }
  ],
  "metadata": {
    "colab": {
      "provenance": []
    },
    "kernelspec": {
      "display_name": "Python 3",
      "name": "python3"
    },
    "language_info": {
      "name": "python"
    }
  },
  "nbformat": 4,
  "nbformat_minor": 0
}