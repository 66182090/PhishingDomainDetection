{
  "cells": [
    {
      "cell_type": "markdown",
      "metadata": {
        "id": "6HNYNZOdFgvk"
      },
      "source": [
        "# Phishing Domain Detection"
      ]
    },
    {
      "cell_type": "markdown",
      "metadata": {
        "id": "VQZgf4B4FeU6"
      },
      "source": [
        "## Problem Statement:\n",
        "Phishing is a type of fraud in which an attacker impersonates a reputable company or\n",
        "person in order to get sensitive information such as login credentials or account\n",
        "information via email or other communication channels. Phishing is popular among\n",
        "attackers because it is easier to persuade someone to click a malicious link that appears\n",
        "to be authentic than it is to break through a computer's protection measures."
      ]
    },
    {
      "cell_type": "markdown",
      "metadata": {
        "id": "BWJrlUDX9lQ8"
      },
      "source": [
        "### Import Statements\n"
      ]
    },
    {
      "cell_type": "code",
      "execution_count": 1,
      "metadata": {
        "id": "GkgXJ1xMRgOr"
      },
      "outputs": [],
      "source": [
        "import pandas as pd\n",
        "import numpy as np\n",
        "\n",
        "import matplotlib.pyplot as plt\n",
        "import seaborn as sns\n",
        "\n",
        "from nltk.tokenize import RegexpTokenizer\n",
        "from nltk.stem.snowball import SnowballStemmer\n",
        "from sklearn.feature_extraction.text import CountVectorizer\n",
        "from sklearn.model_selection import train_test_split\n",
        "\n",
        "from sklearn.linear_model import LogisticRegression\n",
        "from sklearn.neighbors import KNeighborsClassifier\n",
        "from sklearn.tree import DecisionTreeClassifier\n",
        "from sklearn.ensemble import RandomForestClassifier\n",
        "from sklearn.svm import SVC\n",
        "from sklearn.model_selection import GridSearchCV\n",
        "from sklearn.naive_bayes import GaussianNB\n",
        "from sklearn.ensemble import GradientBoostingClassifier\n",
        "\n",
        "from sklearn import metrics\n",
        "from sklearn.utils import shuffle\n",
        "\n",
        "\n",
        "# hide warnings\n",
        "import warnings\n",
        "warnings.filterwarnings('ignore')"
      ]
    },
    {
      "cell_type": "markdown",
      "metadata": {
        "id": "8YQ2UYlh9uG0"
      },
      "source": [
        "### Loading the Dataset"
      ]
    },
    {
      "cell_type": "code",
      "source": [
        "from google.colab import drive\n",
        "drive.mount('/content/drive')"
      ],
      "metadata": {
        "colab": {
          "base_uri": "https://localhost:8080/"
        },
        "id": "MbtLG_CIchpE",
        "outputId": "c721017c-51d7-4fcb-b21c-3b332dd20a26"
      },
      "execution_count": 2,
      "outputs": [
        {
          "output_type": "stream",
          "name": "stdout",
          "text": [
            "Drive already mounted at /content/drive; to attempt to forcibly remount, call drive.mount(\"/content/drive\", force_remount=True).\n"
          ]
        }
      ]
    },
    {
      "cell_type": "code",
      "execution_count": 3,
      "metadata": {
        "id": "xVwLmqXZRqAr"
      },
      "outputs": [],
      "source": [
        "df = pd.read_csv(\"/content/drive/MyDrive/ColabNotebooks/MajorProject/phishing_site_urls.csv\")"
      ]
    },
    {
      "cell_type": "markdown",
      "metadata": {
        "id": "xYTif5CR90y7"
      },
      "source": [
        "### Exploratory Data Analysis"
      ]
    },
    {
      "cell_type": "code",
      "execution_count": 4,
      "metadata": {
        "colab": {
          "base_uri": "https://localhost:8080/",
          "height": 224
        },
        "id": "GdlJSrkVRyMZ",
        "outputId": "306e4c65-11b5-46a4-9183-353650bc4315"
      },
      "outputs": [
        {
          "output_type": "stream",
          "name": "stdout",
          "text": [
            "(549346, 2)\n"
          ]
        },
        {
          "output_type": "execute_result",
          "data": {
            "text/plain": [
              "                                                 URL Label\n",
              "0  nobell.it/70ffb52d079109dca5664cce6f317373782/...   bad\n",
              "1  www.dghjdgf.com/paypal.co.uk/cycgi-bin/webscrc...   bad\n",
              "2  serviciosbys.com/paypal.cgi.bin.get-into.herf....   bad\n",
              "3  mail.printakid.com/www.online.americanexpress....   bad\n",
              "4  thewhiskeydregs.com/wp-content/themes/widescre...   bad"
            ],
            "text/html": [
              "\n",
              "\n",
              "  <div id=\"df-1025419d-b435-40fa-bd50-0e7809bc53fa\">\n",
              "    <div class=\"colab-df-container\">\n",
              "      <div>\n",
              "<style scoped>\n",
              "    .dataframe tbody tr th:only-of-type {\n",
              "        vertical-align: middle;\n",
              "    }\n",
              "\n",
              "    .dataframe tbody tr th {\n",
              "        vertical-align: top;\n",
              "    }\n",
              "\n",
              "    .dataframe thead th {\n",
              "        text-align: right;\n",
              "    }\n",
              "</style>\n",
              "<table border=\"1\" class=\"dataframe\">\n",
              "  <thead>\n",
              "    <tr style=\"text-align: right;\">\n",
              "      <th></th>\n",
              "      <th>URL</th>\n",
              "      <th>Label</th>\n",
              "    </tr>\n",
              "  </thead>\n",
              "  <tbody>\n",
              "    <tr>\n",
              "      <th>0</th>\n",
              "      <td>nobell.it/70ffb52d079109dca5664cce6f317373782/...</td>\n",
              "      <td>bad</td>\n",
              "    </tr>\n",
              "    <tr>\n",
              "      <th>1</th>\n",
              "      <td>www.dghjdgf.com/paypal.co.uk/cycgi-bin/webscrc...</td>\n",
              "      <td>bad</td>\n",
              "    </tr>\n",
              "    <tr>\n",
              "      <th>2</th>\n",
              "      <td>serviciosbys.com/paypal.cgi.bin.get-into.herf....</td>\n",
              "      <td>bad</td>\n",
              "    </tr>\n",
              "    <tr>\n",
              "      <th>3</th>\n",
              "      <td>mail.printakid.com/www.online.americanexpress....</td>\n",
              "      <td>bad</td>\n",
              "    </tr>\n",
              "    <tr>\n",
              "      <th>4</th>\n",
              "      <td>thewhiskeydregs.com/wp-content/themes/widescre...</td>\n",
              "      <td>bad</td>\n",
              "    </tr>\n",
              "  </tbody>\n",
              "</table>\n",
              "</div>\n",
              "      <button class=\"colab-df-convert\" onclick=\"convertToInteractive('df-1025419d-b435-40fa-bd50-0e7809bc53fa')\"\n",
              "              title=\"Convert this dataframe to an interactive table.\"\n",
              "              style=\"display:none;\">\n",
              "\n",
              "  <svg xmlns=\"http://www.w3.org/2000/svg\" height=\"24px\"viewBox=\"0 0 24 24\"\n",
              "       width=\"24px\">\n",
              "    <path d=\"M0 0h24v24H0V0z\" fill=\"none\"/>\n",
              "    <path d=\"M18.56 5.44l.94 2.06.94-2.06 2.06-.94-2.06-.94-.94-2.06-.94 2.06-2.06.94zm-11 1L8.5 8.5l.94-2.06 2.06-.94-2.06-.94L8.5 2.5l-.94 2.06-2.06.94zm10 10l.94 2.06.94-2.06 2.06-.94-2.06-.94-.94-2.06-.94 2.06-2.06.94z\"/><path d=\"M17.41 7.96l-1.37-1.37c-.4-.4-.92-.59-1.43-.59-.52 0-1.04.2-1.43.59L10.3 9.45l-7.72 7.72c-.78.78-.78 2.05 0 2.83L4 21.41c.39.39.9.59 1.41.59.51 0 1.02-.2 1.41-.59l7.78-7.78 2.81-2.81c.8-.78.8-2.07 0-2.86zM5.41 20L4 18.59l7.72-7.72 1.47 1.35L5.41 20z\"/>\n",
              "  </svg>\n",
              "      </button>\n",
              "\n",
              "\n",
              "\n",
              "    <div id=\"df-4701a98d-ccfe-43da-8379-290f1f5788a9\">\n",
              "      <button class=\"colab-df-quickchart\" onclick=\"quickchart('df-4701a98d-ccfe-43da-8379-290f1f5788a9')\"\n",
              "              title=\"Suggest charts.\"\n",
              "              style=\"display:none;\">\n",
              "\n",
              "<svg xmlns=\"http://www.w3.org/2000/svg\" height=\"24px\"viewBox=\"0 0 24 24\"\n",
              "     width=\"24px\">\n",
              "    <g>\n",
              "        <path d=\"M19 3H5c-1.1 0-2 .9-2 2v14c0 1.1.9 2 2 2h14c1.1 0 2-.9 2-2V5c0-1.1-.9-2-2-2zM9 17H7v-7h2v7zm4 0h-2V7h2v10zm4 0h-2v-4h2v4z\"/>\n",
              "    </g>\n",
              "</svg>\n",
              "      </button>\n",
              "    </div>\n",
              "\n",
              "<style>\n",
              "  .colab-df-quickchart {\n",
              "    background-color: #E8F0FE;\n",
              "    border: none;\n",
              "    border-radius: 50%;\n",
              "    cursor: pointer;\n",
              "    display: none;\n",
              "    fill: #1967D2;\n",
              "    height: 32px;\n",
              "    padding: 0 0 0 0;\n",
              "    width: 32px;\n",
              "  }\n",
              "\n",
              "  .colab-df-quickchart:hover {\n",
              "    background-color: #E2EBFA;\n",
              "    box-shadow: 0px 1px 2px rgba(60, 64, 67, 0.3), 0px 1px 3px 1px rgba(60, 64, 67, 0.15);\n",
              "    fill: #174EA6;\n",
              "  }\n",
              "\n",
              "  [theme=dark] .colab-df-quickchart {\n",
              "    background-color: #3B4455;\n",
              "    fill: #D2E3FC;\n",
              "  }\n",
              "\n",
              "  [theme=dark] .colab-df-quickchart:hover {\n",
              "    background-color: #434B5C;\n",
              "    box-shadow: 0px 1px 3px 1px rgba(0, 0, 0, 0.15);\n",
              "    filter: drop-shadow(0px 1px 2px rgba(0, 0, 0, 0.3));\n",
              "    fill: #FFFFFF;\n",
              "  }\n",
              "</style>\n",
              "\n",
              "    <script>\n",
              "      async function quickchart(key) {\n",
              "        const containerElement = document.querySelector('#' + key);\n",
              "        const charts = await google.colab.kernel.invokeFunction(\n",
              "            'suggestCharts', [key], {});\n",
              "      }\n",
              "    </script>\n",
              "\n",
              "      <script>\n",
              "\n",
              "function displayQuickchartButton(domScope) {\n",
              "  let quickchartButtonEl =\n",
              "    domScope.querySelector('#df-4701a98d-ccfe-43da-8379-290f1f5788a9 button.colab-df-quickchart');\n",
              "  quickchartButtonEl.style.display =\n",
              "    google.colab.kernel.accessAllowed ? 'block' : 'none';\n",
              "}\n",
              "\n",
              "        displayQuickchartButton(document);\n",
              "      </script>\n",
              "      <style>\n",
              "    .colab-df-container {\n",
              "      display:flex;\n",
              "      flex-wrap:wrap;\n",
              "      gap: 12px;\n",
              "    }\n",
              "\n",
              "    .colab-df-convert {\n",
              "      background-color: #E8F0FE;\n",
              "      border: none;\n",
              "      border-radius: 50%;\n",
              "      cursor: pointer;\n",
              "      display: none;\n",
              "      fill: #1967D2;\n",
              "      height: 32px;\n",
              "      padding: 0 0 0 0;\n",
              "      width: 32px;\n",
              "    }\n",
              "\n",
              "    .colab-df-convert:hover {\n",
              "      background-color: #E2EBFA;\n",
              "      box-shadow: 0px 1px 2px rgba(60, 64, 67, 0.3), 0px 1px 3px 1px rgba(60, 64, 67, 0.15);\n",
              "      fill: #174EA6;\n",
              "    }\n",
              "\n",
              "    [theme=dark] .colab-df-convert {\n",
              "      background-color: #3B4455;\n",
              "      fill: #D2E3FC;\n",
              "    }\n",
              "\n",
              "    [theme=dark] .colab-df-convert:hover {\n",
              "      background-color: #434B5C;\n",
              "      box-shadow: 0px 1px 3px 1px rgba(0, 0, 0, 0.15);\n",
              "      filter: drop-shadow(0px 1px 2px rgba(0, 0, 0, 0.3));\n",
              "      fill: #FFFFFF;\n",
              "    }\n",
              "  </style>\n",
              "\n",
              "      <script>\n",
              "        const buttonEl =\n",
              "          document.querySelector('#df-1025419d-b435-40fa-bd50-0e7809bc53fa button.colab-df-convert');\n",
              "        buttonEl.style.display =\n",
              "          google.colab.kernel.accessAllowed ? 'block' : 'none';\n",
              "\n",
              "        async function convertToInteractive(key) {\n",
              "          const element = document.querySelector('#df-1025419d-b435-40fa-bd50-0e7809bc53fa');\n",
              "          const dataTable =\n",
              "            await google.colab.kernel.invokeFunction('convertToInteractive',\n",
              "                                                     [key], {});\n",
              "          if (!dataTable) return;\n",
              "\n",
              "          const docLinkHtml = 'Like what you see? Visit the ' +\n",
              "            '<a target=\"_blank\" href=https://colab.research.google.com/notebooks/data_table.ipynb>data table notebook</a>'\n",
              "            + ' to learn more about interactive tables.';\n",
              "          element.innerHTML = '';\n",
              "          dataTable['output_type'] = 'display_data';\n",
              "          await google.colab.output.renderOutput(dataTable, element);\n",
              "          const docLink = document.createElement('div');\n",
              "          docLink.innerHTML = docLinkHtml;\n",
              "          element.appendChild(docLink);\n",
              "        }\n",
              "      </script>\n",
              "    </div>\n",
              "  </div>\n"
            ]
          },
          "metadata": {},
          "execution_count": 4
        }
      ],
      "source": [
        "#contents of dataset\n",
        "print(df.shape)\n",
        "df.head(5)"
      ]
    },
    {
      "cell_type": "code",
      "execution_count": 5,
      "metadata": {
        "colab": {
          "base_uri": "https://localhost:8080/",
          "height": 112
        },
        "id": "qoBOjvIER074",
        "outputId": "c929f610-0bbc-4a1d-dbbe-1960019c4223"
      },
      "outputs": [
        {
          "output_type": "execute_result",
          "data": {
            "text/plain": [
              "        count  unique                            top    freq\n",
              "URL    549346  507195  jhomitevd2abj3fk.tor2web.org/      52\n",
              "Label  549346       2                           good  392924"
            ],
            "text/html": [
              "\n",
              "\n",
              "  <div id=\"df-0cd580fb-56e3-4556-b355-7158f678afd5\">\n",
              "    <div class=\"colab-df-container\">\n",
              "      <div>\n",
              "<style scoped>\n",
              "    .dataframe tbody tr th:only-of-type {\n",
              "        vertical-align: middle;\n",
              "    }\n",
              "\n",
              "    .dataframe tbody tr th {\n",
              "        vertical-align: top;\n",
              "    }\n",
              "\n",
              "    .dataframe thead th {\n",
              "        text-align: right;\n",
              "    }\n",
              "</style>\n",
              "<table border=\"1\" class=\"dataframe\">\n",
              "  <thead>\n",
              "    <tr style=\"text-align: right;\">\n",
              "      <th></th>\n",
              "      <th>count</th>\n",
              "      <th>unique</th>\n",
              "      <th>top</th>\n",
              "      <th>freq</th>\n",
              "    </tr>\n",
              "  </thead>\n",
              "  <tbody>\n",
              "    <tr>\n",
              "      <th>URL</th>\n",
              "      <td>549346</td>\n",
              "      <td>507195</td>\n",
              "      <td>jhomitevd2abj3fk.tor2web.org/</td>\n",
              "      <td>52</td>\n",
              "    </tr>\n",
              "    <tr>\n",
              "      <th>Label</th>\n",
              "      <td>549346</td>\n",
              "      <td>2</td>\n",
              "      <td>good</td>\n",
              "      <td>392924</td>\n",
              "    </tr>\n",
              "  </tbody>\n",
              "</table>\n",
              "</div>\n",
              "      <button class=\"colab-df-convert\" onclick=\"convertToInteractive('df-0cd580fb-56e3-4556-b355-7158f678afd5')\"\n",
              "              title=\"Convert this dataframe to an interactive table.\"\n",
              "              style=\"display:none;\">\n",
              "\n",
              "  <svg xmlns=\"http://www.w3.org/2000/svg\" height=\"24px\"viewBox=\"0 0 24 24\"\n",
              "       width=\"24px\">\n",
              "    <path d=\"M0 0h24v24H0V0z\" fill=\"none\"/>\n",
              "    <path d=\"M18.56 5.44l.94 2.06.94-2.06 2.06-.94-2.06-.94-.94-2.06-.94 2.06-2.06.94zm-11 1L8.5 8.5l.94-2.06 2.06-.94-2.06-.94L8.5 2.5l-.94 2.06-2.06.94zm10 10l.94 2.06.94-2.06 2.06-.94-2.06-.94-.94-2.06-.94 2.06-2.06.94z\"/><path d=\"M17.41 7.96l-1.37-1.37c-.4-.4-.92-.59-1.43-.59-.52 0-1.04.2-1.43.59L10.3 9.45l-7.72 7.72c-.78.78-.78 2.05 0 2.83L4 21.41c.39.39.9.59 1.41.59.51 0 1.02-.2 1.41-.59l7.78-7.78 2.81-2.81c.8-.78.8-2.07 0-2.86zM5.41 20L4 18.59l7.72-7.72 1.47 1.35L5.41 20z\"/>\n",
              "  </svg>\n",
              "      </button>\n",
              "\n",
              "\n",
              "\n",
              "    <div id=\"df-978c6ecf-5a26-4b8f-b86b-3a7230f02e60\">\n",
              "      <button class=\"colab-df-quickchart\" onclick=\"quickchart('df-978c6ecf-5a26-4b8f-b86b-3a7230f02e60')\"\n",
              "              title=\"Suggest charts.\"\n",
              "              style=\"display:none;\">\n",
              "\n",
              "<svg xmlns=\"http://www.w3.org/2000/svg\" height=\"24px\"viewBox=\"0 0 24 24\"\n",
              "     width=\"24px\">\n",
              "    <g>\n",
              "        <path d=\"M19 3H5c-1.1 0-2 .9-2 2v14c0 1.1.9 2 2 2h14c1.1 0 2-.9 2-2V5c0-1.1-.9-2-2-2zM9 17H7v-7h2v7zm4 0h-2V7h2v10zm4 0h-2v-4h2v4z\"/>\n",
              "    </g>\n",
              "</svg>\n",
              "      </button>\n",
              "    </div>\n",
              "\n",
              "<style>\n",
              "  .colab-df-quickchart {\n",
              "    background-color: #E8F0FE;\n",
              "    border: none;\n",
              "    border-radius: 50%;\n",
              "    cursor: pointer;\n",
              "    display: none;\n",
              "    fill: #1967D2;\n",
              "    height: 32px;\n",
              "    padding: 0 0 0 0;\n",
              "    width: 32px;\n",
              "  }\n",
              "\n",
              "  .colab-df-quickchart:hover {\n",
              "    background-color: #E2EBFA;\n",
              "    box-shadow: 0px 1px 2px rgba(60, 64, 67, 0.3), 0px 1px 3px 1px rgba(60, 64, 67, 0.15);\n",
              "    fill: #174EA6;\n",
              "  }\n",
              "\n",
              "  [theme=dark] .colab-df-quickchart {\n",
              "    background-color: #3B4455;\n",
              "    fill: #D2E3FC;\n",
              "  }\n",
              "\n",
              "  [theme=dark] .colab-df-quickchart:hover {\n",
              "    background-color: #434B5C;\n",
              "    box-shadow: 0px 1px 3px 1px rgba(0, 0, 0, 0.15);\n",
              "    filter: drop-shadow(0px 1px 2px rgba(0, 0, 0, 0.3));\n",
              "    fill: #FFFFFF;\n",
              "  }\n",
              "</style>\n",
              "\n",
              "    <script>\n",
              "      async function quickchart(key) {\n",
              "        const containerElement = document.querySelector('#' + key);\n",
              "        const charts = await google.colab.kernel.invokeFunction(\n",
              "            'suggestCharts', [key], {});\n",
              "      }\n",
              "    </script>\n",
              "\n",
              "      <script>\n",
              "\n",
              "function displayQuickchartButton(domScope) {\n",
              "  let quickchartButtonEl =\n",
              "    domScope.querySelector('#df-978c6ecf-5a26-4b8f-b86b-3a7230f02e60 button.colab-df-quickchart');\n",
              "  quickchartButtonEl.style.display =\n",
              "    google.colab.kernel.accessAllowed ? 'block' : 'none';\n",
              "}\n",
              "\n",
              "        displayQuickchartButton(document);\n",
              "      </script>\n",
              "      <style>\n",
              "    .colab-df-container {\n",
              "      display:flex;\n",
              "      flex-wrap:wrap;\n",
              "      gap: 12px;\n",
              "    }\n",
              "\n",
              "    .colab-df-convert {\n",
              "      background-color: #E8F0FE;\n",
              "      border: none;\n",
              "      border-radius: 50%;\n",
              "      cursor: pointer;\n",
              "      display: none;\n",
              "      fill: #1967D2;\n",
              "      height: 32px;\n",
              "      padding: 0 0 0 0;\n",
              "      width: 32px;\n",
              "    }\n",
              "\n",
              "    .colab-df-convert:hover {\n",
              "      background-color: #E2EBFA;\n",
              "      box-shadow: 0px 1px 2px rgba(60, 64, 67, 0.3), 0px 1px 3px 1px rgba(60, 64, 67, 0.15);\n",
              "      fill: #174EA6;\n",
              "    }\n",
              "\n",
              "    [theme=dark] .colab-df-convert {\n",
              "      background-color: #3B4455;\n",
              "      fill: #D2E3FC;\n",
              "    }\n",
              "\n",
              "    [theme=dark] .colab-df-convert:hover {\n",
              "      background-color: #434B5C;\n",
              "      box-shadow: 0px 1px 3px 1px rgba(0, 0, 0, 0.15);\n",
              "      filter: drop-shadow(0px 1px 2px rgba(0, 0, 0, 0.3));\n",
              "      fill: #FFFFFF;\n",
              "    }\n",
              "  </style>\n",
              "\n",
              "      <script>\n",
              "        const buttonEl =\n",
              "          document.querySelector('#df-0cd580fb-56e3-4556-b355-7158f678afd5 button.colab-df-convert');\n",
              "        buttonEl.style.display =\n",
              "          google.colab.kernel.accessAllowed ? 'block' : 'none';\n",
              "\n",
              "        async function convertToInteractive(key) {\n",
              "          const element = document.querySelector('#df-0cd580fb-56e3-4556-b355-7158f678afd5');\n",
              "          const dataTable =\n",
              "            await google.colab.kernel.invokeFunction('convertToInteractive',\n",
              "                                                     [key], {});\n",
              "          if (!dataTable) return;\n",
              "\n",
              "          const docLinkHtml = 'Like what you see? Visit the ' +\n",
              "            '<a target=\"_blank\" href=https://colab.research.google.com/notebooks/data_table.ipynb>data table notebook</a>'\n",
              "            + ' to learn more about interactive tables.';\n",
              "          element.innerHTML = '';\n",
              "          dataTable['output_type'] = 'display_data';\n",
              "          await google.colab.output.renderOutput(dataTable, element);\n",
              "          const docLink = document.createElement('div');\n",
              "          docLink.innerHTML = docLinkHtml;\n",
              "          element.appendChild(docLink);\n",
              "        }\n",
              "      </script>\n",
              "    </div>\n",
              "  </div>\n"
            ]
          },
          "metadata": {},
          "execution_count": 5
        }
      ],
      "source": [
        "df.describe().T"
      ]
    },
    {
      "cell_type": "code",
      "execution_count": 6,
      "metadata": {
        "colab": {
          "base_uri": "https://localhost:8080/"
        },
        "id": "BBW8SiAvR5bN",
        "outputId": "d223aa6c-55e9-46b9-f757-2e0ee4e2d86c"
      },
      "outputs": [
        {
          "output_type": "execute_result",
          "data": {
            "text/plain": [
              "URL      0\n",
              "Label    0\n",
              "dtype: int64"
            ]
          },
          "metadata": {},
          "execution_count": 6
        }
      ],
      "source": [
        "#Checking for Null Values\n",
        "df.isnull().sum()"
      ]
    },
    {
      "cell_type": "code",
      "execution_count": 7,
      "metadata": {
        "colab": {
          "base_uri": "https://localhost:8080/",
          "height": 424
        },
        "id": "1m9GuvUxyr0h",
        "outputId": "7b9a6530-a5d2-4154-c8e9-2421ae9fbc50"
      },
      "outputs": [
        {
          "output_type": "execute_result",
          "data": {
            "text/plain": [
              "<Axes: ylabel='Label'>"
            ]
          },
          "metadata": {},
          "execution_count": 7
        },
        {
          "output_type": "display_data",
          "data": {
            "text/plain": [
              "<Figure size 640x480 with 1 Axes>"
            ],
            "image/png": "[encoded data removed]"
          },
          "metadata": {}
        }
      ],
      "source": [
        "#plot of data\n",
        "df['Label'].value_counts().plot(kind='pie',autopct='%1.2f%%')"
      ]
    },
    {
      "cell_type": "markdown",
      "metadata": {
        "id": "s6Sz85MQbAEi"
      },
      "source": [
        "### Data Sampling"
      ]
    },
    {
      "cell_type": "code",
      "execution_count": 8,
      "metadata": {
        "id": "yRxHfAlhbAEj"
      },
      "outputs": [],
      "source": [
        "df_shuffled = shuffle(df, random_state=42)\n",
        "data_size = 5000\n",
        "df_sampled = df_shuffled[:data_size].copy()"
      ]
    },
    {
      "cell_type": "code",
      "execution_count": 9,
      "metadata": {
        "colab": {
          "base_uri": "https://localhost:8080/",
          "height": 449
        },
        "id": "AX7c9jPkbAEj",
        "outputId": "af86e6e2-19f7-4c45-dae6-2590f8904d9f"
      },
      "outputs": [
        {
          "output_type": "display_data",
          "data": {
            "text/plain": [
              "<Figure size 640x480 with 1 Axes>"
            ],
            "image/png": "[encoded data removed]"
          },
          "metadata": {}
        }
      ],
      "source": [
        "#Make sure the distribution is the same after taking the sample\n",
        "sns.countplot(data=df_sampled, x=\"Label\")\n",
        "plt.show()"
      ]
    },
    {
      "cell_type": "code",
      "execution_count": 10,
      "metadata": {
        "colab": {
          "base_uri": "https://localhost:8080/"
        },
        "id": "AYD3nzlHbAEk",
        "outputId": "822b7f13-ab50-4496-913a-1638a4adc20b"
      },
      "outputs": [
        {
          "output_type": "stream",
          "name": "stdout",
          "text": [
            "<class 'pandas.core.frame.DataFrame'>\n",
            "Int64Index: 5000 entries, 452638 to 170545\n",
            "Data columns (total 2 columns):\n",
            " #   Column  Non-Null Count  Dtype \n",
            "---  ------  --------------  ----- \n",
            " 0   URL     5000 non-null   object\n",
            " 1   Label   5000 non-null   object\n",
            "dtypes: object(2)\n",
            "memory usage: 117.2+ KB\n"
          ]
        }
      ],
      "source": [
        "df_sampled.info()\n",
        "df_sampled.replace({'good':0, 'bad':1}, inplace=True)"
      ]
    },
    {
      "cell_type": "markdown",
      "metadata": {
        "id": "DVG2ePrOWdwI"
      },
      "source": [
        "### Data Preprocessing"
      ]
    },
    {
      "cell_type": "code",
      "execution_count": 11,
      "metadata": {
        "id": "ZG18midY7yqu"
      },
      "outputs": [],
      "source": [
        "#Selecting Features and Target variables\n",
        "X_raw=df_sampled[[\"URL\"]]\n",
        "y=df_sampled[\"Label\"]"
      ]
    },
    {
      "cell_type": "code",
      "execution_count": 12,
      "metadata": {
        "id": "3i0PZyxp2f0L"
      },
      "outputs": [],
      "source": [
        "#Tokenization, Stemming, Vectorization\n",
        "tokenizer = RegexpTokenizer(r'[A-Za-z]+')\n",
        "stemmer = SnowballStemmer(\"english\")\n",
        "cv = CountVectorizer()\n",
        "\n",
        "\n",
        "def prepare_data(X) :\n",
        "    X['text_tokenized'] = X.URL.map(lambda t: tokenizer.tokenize(t))\n",
        "    X['text_stemmed'] = X.text_tokenized.map(lambda t: [stemmer.stem(word) for word in t])\n",
        "    X['text_sent'] = X.text_stemmed.map(lambda t: ' '.join(t))\n",
        "    features = cv.fit_transform(X.text_sent)\n",
        "    return X, features\n",
        "\n",
        "X_raw, X = prepare_data(X_raw)"
      ]
    },
    {
      "cell_type": "markdown",
      "metadata": {
        "id": "7O8N9s-WWA3o"
      },
      "source": [
        "### Splitting Data into Training and Testing"
      ]
    },
    {
      "cell_type": "code",
      "execution_count": 13,
      "metadata": {
        "id": "xQpmzh0VVxXf"
      },
      "outputs": [],
      "source": [
        "#Train Test Split\n",
        "X_train, X_test , y_train, y_test = train_test_split(X, y, test_size = 0.2 ,random_state = 42)"
      ]
    },
    {
      "cell_type": "markdown",
      "metadata": {
        "id": "bJ_9IzdWjwrY"
      },
      "source": [
        "### Comparison Pre Processing"
      ]
    },
    {
      "cell_type": "code",
      "execution_count": 14,
      "metadata": {
        "id": "twuoWWpTitd_"
      },
      "outputs": [],
      "source": [
        "#variable declaration to store values\n",
        "ml_model = []\n",
        "accuracy = []\n",
        "f1_score = []\n",
        "recall = []\n",
        "precision = []\n",
        "\n",
        "\n",
        "#function to add results\n",
        "def storeResults(model,acc,f1,rec,prec):\n",
        "    ml_model.append(model)\n",
        "    accuracy.append(round(acc, 3))\n",
        "    f1_score.append(round(f1, 3))\n",
        "    recall.append(round(rec, 3))\n",
        "    precision.append(round(prec ,3))"
      ]
    },
    {
      "cell_type": "markdown",
      "metadata": {
        "id": "h_jLfISnTA7y"
      },
      "source": [
        "### Testing Models\n",
        "\n",
        "*   Logistic Regression\n",
        "\n"
      ]
    },
    {
      "cell_type": "code",
      "execution_count": 15,
      "metadata": {
        "colab": {
          "base_uri": "https://localhost:8080/"
        },
        "id": "pFbgs9QJTRWI",
        "outputId": "30b91947-c14a-4880-db59-3f2f4d48069a"
      },
      "outputs": [
        {
          "output_type": "stream",
          "name": "stdout",
          "text": [
            "Logistic Regression : Accuracy on training Data: 0.967\n",
            "Logistic Regression : Accuracy on test Data: 0.887\n",
            "\n",
            "Logistic Regression : f1_score on training Data: 0.939\n",
            "Logistic Regression : f1_score on test Data: 0.785\n",
            "\n",
            "Logistic Regression : Recall on training Data: 0.890\n",
            "Logistic Regression : Recall on test Data: 0.694\n",
            "\n",
            "Logistic Regression : precision on training Data: 0.993\n",
            "Logistic Regression : precision on test Data: 0.904\n"
          ]
        }
      ],
      "source": [
        "#instantiate the model\n",
        "log = LogisticRegression()\n",
        "\n",
        "#fit the model\n",
        "log.fit(X_train,y_train)\n",
        "\n",
        "#predicting the target value from the model for the samples\n",
        "y_train_log = log.predict(X_train)\n",
        "y_test_log = log.predict(X_test)\n",
        "\n",
        "\n",
        "#computing accuracy, score, recall, precision of the model\n",
        "acc_train_log = metrics.accuracy_score(y_train,y_train_log)\n",
        "acc_test_log = metrics.accuracy_score(y_test,y_test_log)\n",
        "\n",
        "print(\"Logistic Regression : Accuracy on training Data: {:.3f}\".format(acc_train_log))\n",
        "print(\"Logistic Regression : Accuracy on test Data: {:.3f}\".format(acc_test_log))\n",
        "print()\n",
        "\n",
        "\n",
        "f1_score_train_log = metrics.f1_score(y_train,y_train_log)\n",
        "f1_score_test_log = metrics.f1_score(y_test,y_test_log)\n",
        "print(\"Logistic Regression : f1_score on training Data: {:.3f}\".format(f1_score_train_log))\n",
        "print(\"Logistic Regression : f1_score on test Data: {:.3f}\".format(f1_score_test_log))\n",
        "print()\n",
        "\n",
        "recall_score_train_log = metrics.recall_score(y_train,y_train_log)\n",
        "recall_score_test_log = metrics.recall_score(y_test,y_test_log)\n",
        "print(\"Logistic Regression : Recall on training Data: {:.3f}\".format(recall_score_train_log))\n",
        "print(\"Logistic Regression : Recall on test Data: {:.3f}\".format(recall_score_test_log))\n",
        "print()\n",
        "\n",
        "precision_score_train_log = metrics.precision_score(y_train,y_train_log)\n",
        "precision_score_test_log = metrics.precision_score(y_test,y_test_log)\n",
        "print(\"Logistic Regression : precision on training Data: {:.3f}\".format(precision_score_train_log))\n",
        "print(\"Logistic Regression : precision on test Data: {:.3f}\".format(precision_score_test_log))\n",
        "\n"
      ]
    },
    {
      "cell_type": "code",
      "execution_count": 16,
      "metadata": {
        "colab": {
          "base_uri": "https://localhost:8080/"
        },
        "id": "jN3hZTvfbAEn",
        "outputId": "36fa60b7-cb17-4b1d-9e00-f541a87e6a3a"
      },
      "outputs": [
        {
          "output_type": "stream",
          "name": "stdout",
          "text": [
            "              precision    recall  f1-score   support\n",
            "\n",
            "           0       0.88      0.97      0.92       703\n",
            "           1       0.90      0.69      0.78       297\n",
            "\n",
            "    accuracy                           0.89      1000\n",
            "   macro avg       0.89      0.83      0.85      1000\n",
            "weighted avg       0.89      0.89      0.88      1000\n",
            "\n"
          ]
        }
      ],
      "source": [
        "#computing the classification report of the model\n",
        "print(metrics.classification_report(y_test, y_test_log))"
      ]
    },
    {
      "cell_type": "code",
      "execution_count": 17,
      "metadata": {
        "id": "gKjKjW9tbAEn"
      },
      "outputs": [],
      "source": [
        "\n",
        "#Store the results\n",
        "storeResults('Logistic Regression',acc_test_log,f1_score_test_log,recall_score_train_log,precision_score_train_log)"
      ]
    },
    {
      "cell_type": "markdown",
      "metadata": {
        "id": "ooHqxi9bl5QI"
      },
      "source": [
        " * K-Nearest Neighbors : Classifier\n",
        "\n"
      ]
    },
    {
      "cell_type": "code",
      "execution_count": 18,
      "metadata": {
        "id": "JMiDSE0bly-D",
        "colab": {
          "base_uri": "https://localhost:8080/"
        },
        "outputId": "fe3327b7-dbde-4a0b-b773-e9b5bbbf9ee6"
      },
      "outputs": [
        {
          "output_type": "stream",
          "name": "stdout",
          "text": [
            "K-Nearest Neighbors : Accuracy on training Data: 1.000\n",
            "K-Nearest Neighbors : Accuracy on test Data: 0.814\n",
            "\n",
            "K-Nearest Neighbors : f1_score on training Data: 1.000\n",
            "K-Nearest Neighbors : f1_score on test Data: 0.694\n",
            "\n",
            "K-Nearest Neighborsn : Recall on training Data: 1.000\n",
            "Logistic Regression : Recall on test Data: 0.710\n",
            "\n",
            "K-Nearest Neighbors : precision on training Data: 0.999\n",
            "K-Nearest Neighbors : precision on test Data: 0.678\n"
          ]
        }
      ],
      "source": [
        "#instantiate the model\n",
        "knn = KNeighborsClassifier(n_neighbors=1)\n",
        "\n",
        "#fit the model\n",
        "knn.fit(X_train,y_train)\n",
        "\n",
        "#predicting the target value from the model for the samples\n",
        "y_train_knn = knn.predict(X_train)\n",
        "y_test_knn = knn.predict(X_test)\n",
        "\n",
        "#computing accuracy, score, recall, precision of the model\n",
        "acc_train_knn = metrics.accuracy_score(y_train,y_train_knn)\n",
        "acc_test_knn = metrics.accuracy_score(y_test,y_test_knn)\n",
        "print(\"K-Nearest Neighbors : Accuracy on training Data: {:.3f}\".format(acc_train_knn))\n",
        "print(\"K-Nearest Neighbors : Accuracy on test Data: {:.3f}\".format(acc_test_knn))\n",
        "print()\n",
        "\n",
        "f1_score_train_knn = metrics.f1_score(y_train,y_train_knn)\n",
        "f1_score_test_knn = metrics.f1_score(y_test,y_test_knn)\n",
        "print(\"K-Nearest Neighbors : f1_score on training Data: {:.3f}\".format(f1_score_train_knn))\n",
        "print(\"K-Nearest Neighbors : f1_score on test Data: {:.3f}\".format(f1_score_test_knn))\n",
        "print()\n",
        "\n",
        "recall_score_train_knn = metrics.recall_score(y_train,y_train_knn)\n",
        "recall_score_test_knn = metrics.recall_score(y_test,y_test_knn)\n",
        "print(\"K-Nearest Neighborsn : Recall on training Data: {:.3f}\".format(recall_score_train_knn))\n",
        "print(\"Logistic Regression : Recall on test Data: {:.3f}\".format(recall_score_test_knn))\n",
        "print()\n",
        "\n",
        "precision_score_train_knn = metrics.precision_score(y_train,y_train_knn)\n",
        "precision_score_test_knn = metrics.precision_score(y_test,y_test_knn)\n",
        "print(\"K-Nearest Neighbors : precision on training Data: {:.3f}\".format(precision_score_train_knn))\n",
        "print(\"K-Nearest Neighbors : precision on test Data: {:.3f}\".format(precision_score_test_knn))"
      ]
    },
    {
      "cell_type": "code",
      "execution_count": 19,
      "metadata": {
        "colab": {
          "base_uri": "https://localhost:8080/"
        },
        "id": "LE1FYcYcbAEn",
        "outputId": "45a0dcfd-43ef-4ba3-fe75-f7df6b7e3bae"
      },
      "outputs": [
        {
          "output_type": "stream",
          "name": "stdout",
          "text": [
            "              precision    recall  f1-score   support\n",
            "\n",
            "           0       0.88      0.86      0.87       703\n",
            "           1       0.68      0.71      0.69       297\n",
            "\n",
            "    accuracy                           0.81      1000\n",
            "   macro avg       0.78      0.78      0.78      1000\n",
            "weighted avg       0.82      0.81      0.82      1000\n",
            "\n"
          ]
        }
      ],
      "source": [
        "\n",
        "#computing the classification report of the model\n",
        "print(metrics.classification_report(y_test, y_test_knn))"
      ]
    },
    {
      "cell_type": "code",
      "execution_count": 20,
      "metadata": {
        "id": "49TY0HEEmeJr",
        "colab": {
          "base_uri": "https://localhost:8080/",
          "height": 450
        },
        "outputId": "45256363-ca93-428f-8f48-d66c3ab07ec4"
      },
      "outputs": [
        {
          "output_type": "display_data",
          "data": {
            "text/plain": [
              "<Figure size 640x480 with 1 Axes>"
            ],
            "image/png": "[encoded data removed]"
          },
          "metadata": {}
        }
      ],
      "source": [
        "#tuning hyperparameters for KNN\n",
        "training_accuracy = []\n",
        "test_accuracy = []\n",
        "depth = range(1,20)\n",
        "for n in depth:\n",
        "    knn = KNeighborsClassifier(n_neighbors=n)\n",
        "\n",
        "    knn.fit(X_train, y_train)\n",
        "    # record training set accuracy\n",
        "    training_accuracy.append(knn.score(X_train, y_train))\n",
        "    # record generalization accuracy\n",
        "    test_accuracy.append(knn.score(X_test, y_test))\n",
        "\n",
        "\n",
        "\n",
        "\n",
        "#plotting the training & testing accuracy for n_estimators from 1 to 20\n",
        "plt.plot(depth, training_accuracy, label=\"training accuracy\")\n",
        "plt.plot(depth, test_accuracy, label=\"test accuracy\")\n",
        "plt.ylabel(\"Accuracy\")\n",
        "plt.xlabel(\"n_neighbors\")\n",
        "plt.legend();"
      ]
    },
    {
      "cell_type": "code",
      "execution_count": 21,
      "metadata": {
        "id": "EGKSvtmdbAEo"
      },
      "outputs": [],
      "source": [
        "#store results\n",
        "storeResults('K-Nearest Neighbors',acc_test_knn,f1_score_test_knn,recall_score_train_knn,precision_score_train_knn)"
      ]
    },
    {
      "cell_type": "markdown",
      "metadata": {
        "id": "G9DnQfPdmuZw"
      },
      "source": [
        "* Support Vector Machine : Classifier"
      ]
    },
    {
      "cell_type": "code",
      "execution_count": 22,
      "metadata": {
        "id": "7lG4icT1mqEv",
        "colab": {
          "base_uri": "https://localhost:8080/"
        },
        "outputId": "47860367-e997-4046-a1a8-3a4bc41ee6df"
      },
      "outputs": [
        {
          "output_type": "stream",
          "name": "stdout",
          "text": [
            "Support Vector Machine : Accuracy on training Data: 1.000\n",
            "Support Vector Machine : Accuracy on test Data: 0.892\n",
            "\n",
            "Support Vector Machine : f1_score on training Data: 0.999\n",
            "Support Vector Machine : f1_score on test Data: 0.798\n",
            "\n",
            "Support Vector Machine : Recall on training Data: 0.999\n",
            "Support Vector Machine : Recall on test Data: 0.717\n",
            "\n",
            "Support Vector Machine : precision on training Data: 0.999\n",
            "Support Vector Machine : precision on test Data: 0.899\n"
          ]
        }
      ],
      "source": [
        "# defining parameter range\n",
        "param_grid = {'gamma': [0.1],'kernel': ['rbf','linear']}\n",
        "\n",
        "#instantiating the model\n",
        "svc = GridSearchCV(SVC(), param_grid)\n",
        "\n",
        "# fitting the model for grid search\n",
        "svc.fit(X_train, y_train)\n",
        "\n",
        "#predicting the target value from the model for the samples\n",
        "y_train_svc = svc.predict(X_train)\n",
        "y_test_svc = svc.predict(X_test)\n",
        "\n",
        "#computing accuracy, score, recall, precision of the model\n",
        "acc_train_svc = metrics.accuracy_score(y_train,y_train_svc)\n",
        "acc_test_svc = metrics.accuracy_score(y_test,y_test_svc)\n",
        "print(\"Support Vector Machine : Accuracy on training Data: {:.3f}\".format(acc_train_svc))\n",
        "print(\"Support Vector Machine : Accuracy on test Data: {:.3f}\".format(acc_test_svc))\n",
        "print()\n",
        "\n",
        "f1_score_train_svc = metrics.f1_score(y_train,y_train_svc)\n",
        "f1_score_test_svc = metrics.f1_score(y_test,y_test_svc)\n",
        "print(\"Support Vector Machine : f1_score on training Data: {:.3f}\".format(f1_score_train_svc))\n",
        "print(\"Support Vector Machine : f1_score on test Data: {:.3f}\".format(f1_score_test_svc))\n",
        "print()\n",
        "\n",
        "recall_score_train_svc = metrics.recall_score(y_train,y_train_svc)\n",
        "recall_score_test_svc = metrics.recall_score(y_test,y_test_svc)\n",
        "print(\"Support Vector Machine : Recall on training Data: {:.3f}\".format(recall_score_train_svc))\n",
        "print(\"Support Vector Machine : Recall on test Data: {:.3f}\".format(recall_score_test_svc))\n",
        "print()\n",
        "\n",
        "precision_score_train_svc = metrics.precision_score(y_train,y_train_svc)\n",
        "precision_score_test_svc = metrics.precision_score(y_test,y_test_svc)\n",
        "print(\"Support Vector Machine : precision on training Data: {:.3f}\".format(precision_score_train_svc))\n",
        "print(\"Support Vector Machine : precision on test Data: {:.3f}\".format(precision_score_test_svc))"
      ]
    },
    {
      "cell_type": "code",
      "execution_count": 23,
      "metadata": {
        "id": "jrlgn3X8nwe9",
        "colab": {
          "base_uri": "https://localhost:8080/"
        },
        "outputId": "40cf3db8-c9a6-45be-fd7d-2ffd67c44662"
      },
      "outputs": [
        {
          "output_type": "stream",
          "name": "stdout",
          "text": [
            "              precision    recall  f1-score   support\n",
            "\n",
            "           0       0.89      0.97      0.93       703\n",
            "           1       0.90      0.72      0.80       297\n",
            "\n",
            "    accuracy                           0.89      1000\n",
            "   macro avg       0.89      0.84      0.86      1000\n",
            "weighted avg       0.89      0.89      0.89      1000\n",
            "\n"
          ]
        }
      ],
      "source": [
        "#computing the classification report of the model\n",
        "print(metrics.classification_report(y_test, y_test_svc))\n"
      ]
    },
    {
      "cell_type": "code",
      "execution_count": 24,
      "metadata": {
        "id": "zIoZrpqkbAEp"
      },
      "outputs": [],
      "source": [
        "#Store the results\n",
        "storeResults('Support Vector Machine',acc_test_svc,f1_score_test_svc,recall_score_train_svc,precision_score_train_svc)"
      ]
    },
    {
      "cell_type": "code",
      "source": [],
      "metadata": {
        "id": "cagYva1uPJlQ"
      },
      "execution_count": 24,
      "outputs": []
    },
    {
      "cell_type": "markdown",
      "metadata": {
        "id": "ql7DqjcBoWKt"
      },
      "source": [
        "* Decision Tree"
      ]
    },
    {
      "cell_type": "code",
      "execution_count": 25,
      "metadata": {
        "id": "x4PEDz_UoXto",
        "colab": {
          "base_uri": "https://localhost:8080/"
        },
        "outputId": "8d1fb775-6aaa-4681-8cd4-8760da3fc833"
      },
      "outputs": [
        {
          "output_type": "stream",
          "name": "stdout",
          "text": [
            "Decision Tree : Accuracy on training Data: 0.918\n",
            "Decision Tree : Accuracy on test Data: 0.868\n",
            "\n",
            "Decision Tree : f1_score on training Data: 0.843\n",
            "Decision Tree : f1_score on test Data: 0.756\n",
            "\n",
            "Decision Tree : Recall on training Data: 0.772\n",
            "Decision Tree : Recall on test Data: 0.690\n",
            "\n",
            "Decision Tree : precision on training Data: 0.928\n",
            "Decision Tree : precision on test Data: 0.837\n"
          ]
        }
      ],
      "source": [
        "#instantiate the model\n",
        "tree = DecisionTreeClassifier(max_depth=25)\n",
        "\n",
        "#fit the model\n",
        "tree.fit(X_train, y_train)\n",
        "\n",
        "#predicting the target value from the model for the samples\n",
        "y_train_tree = tree.predict(X_train)\n",
        "y_test_tree = tree.predict(X_test)\n",
        "\n",
        "#computing accuracy, score, recall, precision of the model\n",
        "acc_train_tree = metrics.accuracy_score(y_train,y_train_tree)\n",
        "acc_test_tree = metrics.accuracy_score(y_test,y_test_tree)\n",
        "print(\"Decision Tree : Accuracy on training Data: {:.3f}\".format(acc_train_tree))\n",
        "print(\"Decision Tree : Accuracy on test Data: {:.3f}\".format(acc_test_tree))\n",
        "print()\n",
        "\n",
        "f1_score_train_tree = metrics.f1_score(y_train,y_train_tree)\n",
        "f1_score_test_tree = metrics.f1_score(y_test,y_test_tree)\n",
        "print(\"Decision Tree : f1_score on training Data: {:.3f}\".format(f1_score_train_tree))\n",
        "print(\"Decision Tree : f1_score on test Data: {:.3f}\".format(f1_score_test_tree))\n",
        "print()\n",
        "\n",
        "recall_score_train_tree = metrics.recall_score(y_train,y_train_tree)\n",
        "recall_score_test_tree = metrics.recall_score(y_test,y_test_tree)\n",
        "print(\"Decision Tree : Recall on training Data: {:.3f}\".format(recall_score_train_tree))\n",
        "print(\"Decision Tree : Recall on test Data: {:.3f}\".format(recall_score_test_tree))\n",
        "print()\n",
        "\n",
        "precision_score_train_tree = metrics.precision_score(y_train,y_train_tree)\n",
        "precision_score_test_tree = metrics.precision_score(y_test,y_test_tree)\n",
        "print(\"Decision Tree : precision on training Data: {:.3f}\".format(precision_score_train_tree))\n",
        "print(\"Decision Tree : precision on test Data: {:.3f}\".format(precision_score_test_tree))\n"
      ]
    },
    {
      "cell_type": "code",
      "execution_count": 26,
      "metadata": {
        "id": "vGqQhJfapQkC",
        "colab": {
          "base_uri": "https://localhost:8080/"
        },
        "outputId": "4725181d-2aa6-4afd-e634-125d6417571f"
      },
      "outputs": [
        {
          "output_type": "stream",
          "name": "stdout",
          "text": [
            "              precision    recall  f1-score   support\n",
            "\n",
            "           0       0.88      0.94      0.91       703\n",
            "           1       0.84      0.69      0.76       297\n",
            "\n",
            "    accuracy                           0.87      1000\n",
            "   macro avg       0.86      0.82      0.83      1000\n",
            "weighted avg       0.87      0.87      0.86      1000\n",
            "\n"
          ]
        }
      ],
      "source": [
        "#computing the classification report of the model\n",
        "print(metrics.classification_report(y_test, y_test_tree))"
      ]
    },
    {
      "cell_type": "code",
      "execution_count": 27,
      "metadata": {
        "id": "vUrEido8o-hU",
        "colab": {
          "base_uri": "https://localhost:8080/",
          "height": 450
        },
        "outputId": "d2d1247c-bb56-4314-f173-3d516d5e4672"
      },
      "outputs": [
        {
          "output_type": "display_data",
          "data": {
            "text/plain": [
              "<Figure size 640x480 with 1 Axes>"
            ],
            "image/png": "[encoded data removed]"
          },
          "metadata": {}
        }
      ],
      "source": [
        "#Hyperparamter Tuning\n",
        "training_accuracy = []\n",
        "test_accuracy = []\n",
        "\n",
        "depth = range(1,30)\n",
        "for n in depth:\n",
        "    tree_test = DecisionTreeClassifier(max_depth=n)\n",
        "\n",
        "    tree_test.fit(X_train, y_train)\n",
        "    # record training set accuracy\n",
        "    training_accuracy.append(tree_test.score(X_train, y_train))\n",
        "    # record generalization accuracy\n",
        "\n",
        "\n",
        "    test_accuracy.append(tree_test.score(X_test, y_test))\n",
        "\n",
        "#plotting the training & testing accuracy for max_depth from 1 to 30\n",
        "plt.plot(depth, training_accuracy, label=\"training accuracy\")\n",
        "plt.plot(depth, test_accuracy, label=\"test accuracy\")\n",
        "plt.ylabel(\"Accuracy\")\n",
        "plt.xlabel(\"max_depth\")\n",
        "plt.legend();"
      ]
    },
    {
      "cell_type": "code",
      "execution_count": 28,
      "metadata": {
        "id": "WMGv1zXcpm7i"
      },
      "outputs": [],
      "source": [
        "#Store the results\n",
        "storeResults('Decision Tree',acc_test_tree,f1_score_test_tree,recall_score_train_tree,precision_score_train_tree)"
      ]
    },
    {
      "cell_type": "markdown",
      "metadata": {
        "id": "G4npCpBHpvUQ"
      },
      "source": [
        "* Random Forest"
      ]
    },
    {
      "cell_type": "code",
      "execution_count": 29,
      "metadata": {
        "id": "wWbPDnapp8tM",
        "colab": {
          "base_uri": "https://localhost:8080/"
        },
        "outputId": "c828c232-d46b-488f-96df-c161b1e4a5c1"
      },
      "outputs": [
        {
          "output_type": "stream",
          "name": "stdout",
          "text": [
            "Random Forest : Accuracy on training Data: 0.992\n",
            "Random Forest : Accuracy on test Data: 0.891\n",
            "\n",
            "Random Forest : f1_score on training Data: 0.985\n",
            "Random Forest : f1_score on test Data: 0.790\n",
            "\n",
            "Random Forest : Recall on training Data: 0.973\n",
            "Random Forest : Recall on test Data: 0.690\n",
            "\n",
            "Random Forest : precision on training Data: 0.998\n",
            "Random Forest : precision on test Data: 0.837\n"
          ]
        }
      ],
      "source": [
        "#instantiate the model\n",
        "forest = RandomForestClassifier(n_estimators=13)\n",
        "\n",
        "#fit the model\n",
        "forest.fit(X_train,y_train)\n",
        "\n",
        "#predicting the target value from the model for the samples\n",
        "y_train_forest = forest.predict(X_train)\n",
        "y_test_forest = forest.predict(X_test)\n",
        "\n",
        "#computing accuracy, score, recall, precision of the model\n",
        "acc_train_forest = metrics.accuracy_score(y_train,y_train_forest)\n",
        "acc_test_forest = metrics.accuracy_score(y_test,y_test_forest)\n",
        "print(\"Random Forest : Accuracy on training Data: {:.3f}\".format(acc_train_forest))\n",
        "print(\"Random Forest : Accuracy on test Data: {:.3f}\".format(acc_test_forest))\n",
        "print()\n",
        "\n",
        "f1_score_train_forest = metrics.f1_score(y_train,y_train_forest)\n",
        "f1_score_test_forest = metrics.f1_score(y_test,y_test_forest)\n",
        "print(\"Random Forest : f1_score on training Data: {:.3f}\".format(f1_score_train_forest))\n",
        "print(\"Random Forest : f1_score on test Data: {:.3f}\".format(f1_score_test_forest))\n",
        "print()\n",
        "\n",
        "recall_score_train_forest = metrics.recall_score(y_train,y_train_forest)\n",
        "recall_score_test_forest = metrics.recall_score(y_test,y_test_forest)\n",
        "print(\"Random Forest : Recall on training Data: {:.3f}\".format(recall_score_train_forest))\n",
        "print(\"Random Forest : Recall on test Data: {:.3f}\".format(recall_score_test_forest))\n",
        "print()\n",
        "\n",
        "precision_score_train_forest = metrics.precision_score(y_train,y_train_forest)\n",
        "precision_score_test_forest = metrics.precision_score(y_test,y_test_tree)\n",
        "print(\"Random Forest : precision on training Data: {:.3f}\".format(precision_score_train_forest))\n",
        "print(\"Random Forest : precision on test Data: {:.3f}\".format(precision_score_test_forest))"
      ]
    },
    {
      "cell_type": "code",
      "execution_count": 30,
      "metadata": {
        "id": "7PZx36K_qJ0Y",
        "colab": {
          "base_uri": "https://localhost:8080/"
        },
        "outputId": "bf991fc3-d28c-42ed-fd26-38372cd7706e"
      },
      "outputs": [
        {
          "output_type": "stream",
          "name": "stdout",
          "text": [
            "              precision    recall  f1-score   support\n",
            "\n",
            "           0       0.88      0.98      0.93       703\n",
            "           1       0.92      0.69      0.79       297\n",
            "\n",
            "    accuracy                           0.89      1000\n",
            "   macro avg       0.90      0.83      0.86      1000\n",
            "weighted avg       0.89      0.89      0.89      1000\n",
            "\n"
          ]
        }
      ],
      "source": [
        "#computing the classification report of the model\n",
        "print(metrics.classification_report(y_test, y_test_forest))"
      ]
    },
    {
      "cell_type": "code",
      "execution_count": 31,
      "metadata": {
        "id": "fJ3HverfqPKF"
      },
      "outputs": [],
      "source": [
        "#Store the results\n",
        "storeResults('Random Forest',acc_test_forest,f1_score_test_forest,recall_score_train_forest,precision_score_train_forest)"
      ]
    },
    {
      "cell_type": "markdown",
      "metadata": {
        "id": "S0aypqYVqu8x"
      },
      "source": [
        "* Gradient Descent"
      ]
    },
    {
      "cell_type": "code",
      "execution_count": 32,
      "metadata": {
        "id": "kbtXsL8Bqr_K",
        "colab": {
          "base_uri": "https://localhost:8080/"
        },
        "outputId": "41d79fe9-f792-4d3e-f0fd-8915dcd18936"
      },
      "outputs": [
        {
          "output_type": "stream",
          "name": "stdout",
          "text": [
            "Gradient Boost: Accuracy on training Data: 0.979\n",
            "Gradient Boost: Accuracy on test Data: 0.857\n",
            "\n",
            "Gradient Boost : f1_score on training Data: 0.962\n",
            "Gradient Boost : f1_score on test Data: 0.701\n",
            "\n",
            "Gradient Boost : Recall on training Data: 0.929\n",
            "Gradient Boost : Recall on test Data: 0.929\n",
            "\n",
            "Gradient Boost : precision on training Data: 0.997\n",
            "Gradient Boost : precision on test Data: 0.997\n"
          ]
        }
      ],
      "source": [
        "#instantiate the model\n",
        "gbc = GradientBoostingClassifier(max_depth=4,learning_rate=0.7)\n",
        "\n",
        "#fit the model\n",
        "gbc.fit(X_train,y_train)\n",
        "\n",
        "#predicting the target value from the model for the samples\n",
        "y_train_gbc = gbc.predict(X_train)\n",
        "y_test_gbc = gbc.predict(X_test)\n",
        "\n",
        "#computing accuracy, score, recall, precision of the model\n",
        "acc_train_gbc = metrics.accuracy_score(y_train,y_train_gbc)\n",
        "acc_test_gbc = metrics.accuracy_score(y_test,y_test_gbc)\n",
        "print(\"Gradient Boost: Accuracy on training Data: {:.3f}\".format(acc_train_gbc))\n",
        "print(\"Gradient Boost: Accuracy on test Data: {:.3f}\".format(acc_test_gbc))\n",
        "print()\n",
        "\n",
        "f1_score_train_gbc = metrics.f1_score(y_train,y_train_gbc)\n",
        "f1_score_test_gbc = metrics.f1_score(y_test,y_test_gbc)\n",
        "print(\"Gradient Boost : f1_score on training Data: {:.3f}\".format(f1_score_train_gbc))\n",
        "print(\"Gradient Boost : f1_score on test Data: {:.3f}\".format(f1_score_test_gbc))\n",
        "print()\n",
        "\n",
        "recall_score_train_gbc = metrics.recall_score(y_train,y_train_gbc)\n",
        "recall_score_test_gbc = metrics.recall_score(y_test,y_test_gbc)\n",
        "print(\"Gradient Boost : Recall on training Data: {:.3f}\".format(recall_score_train_gbc))\n",
        "print(\"Gradient Boost : Recall on test Data: {:.3f}\".format(recall_score_train_gbc))\n",
        "print()\n",
        "\n",
        "precision_score_train_gbc = metrics.precision_score(y_train,y_train_gbc)\n",
        "precision_score_test_gbc = metrics.precision_score(y_test,y_test_gbc)\n",
        "print(\"Gradient Boost : precision on training Data: {:.3f}\".format(precision_score_train_gbc))\n",
        "print(\"Gradient Boost : precision on test Data: {:.3f}\".format(precision_score_train_gbc))"
      ]
    },
    {
      "cell_type": "code",
      "execution_count": 33,
      "metadata": {
        "colab": {
          "base_uri": "https://localhost:8080/"
        },
        "id": "Wf7O0XXRbAE1",
        "outputId": "7602d77a-57ef-4adb-d6e3-ac19b2e95ca0"
      },
      "outputs": [
        {
          "output_type": "stream",
          "name": "stdout",
          "text": [
            "              precision    recall  f1-score   support\n",
            "\n",
            "           0       0.84      0.98      0.91       703\n",
            "           1       0.92      0.57      0.70       297\n",
            "\n",
            "    accuracy                           0.86      1000\n",
            "   macro avg       0.88      0.77      0.80      1000\n",
            "weighted avg       0.87      0.86      0.85      1000\n",
            "\n"
          ]
        }
      ],
      "source": [
        "#computing the classification report of the model\n",
        "print(metrics.classification_report(y_test, y_test_gbc))"
      ]
    },
    {
      "cell_type": "code",
      "execution_count": 34,
      "metadata": {
        "id": "-HCm-c8_tN-y"
      },
      "outputs": [],
      "source": [
        "#Store the results\n",
        "storeResults('Gradient Boost ',acc_test_gbc,f1_score_test_gbc,recall_score_train_gbc,precision_score_train_gbc)"
      ]
    },
    {
      "cell_type": "markdown",
      "metadata": {
        "id": "EqsMmOJ9tS8D"
      },
      "source": [
        "### Analysing Results"
      ]
    },
    {
      "cell_type": "code",
      "execution_count": 35,
      "metadata": {
        "id": "SYO7rrjQtZh5",
        "colab": {
          "base_uri": "https://localhost:8080/",
          "height": 238
        },
        "outputId": "962f55fc-7076-4629-a409-5af5db459888"
      },
      "outputs": [
        {
          "output_type": "execute_result",
          "data": {
            "text/plain": [
              "                 ML Model  Accuracy  f1_score  Recall  Precision\n",
              "0     Logistic Regression     0.887     0.785   0.890      0.993\n",
              "1     K-Nearest Neighbors     0.814     0.694   1.000      0.999\n",
              "2  Support Vector Machine     0.892     0.798   0.999      0.999\n",
              "3           Decision Tree     0.868     0.756   0.772      0.928\n",
              "4           Random Forest     0.891     0.790   0.973      0.998\n",
              "5         Gradient Boost      0.857     0.701   0.929      0.997"
            ],
            "text/html": [
              "\n",
              "\n",
              "  <div id=\"df-f822137e-e6a7-4eee-a7ab-0734c65dc86f\">\n",
              "    <div class=\"colab-df-container\">\n",
              "      <div>\n",
              "<style scoped>\n",
              "    .dataframe tbody tr th:only-of-type {\n",
              "        vertical-align: middle;\n",
              "    }\n",
              "\n",
              "    .dataframe tbody tr th {\n",
              "        vertical-align: top;\n",
              "    }\n",
              "\n",
              "    .dataframe thead th {\n",
              "        text-align: right;\n",
              "    }\n",
              "</style>\n",
              "<table border=\"1\" class=\"dataframe\">\n",
              "  <thead>\n",
              "    <tr style=\"text-align: right;\">\n",
              "      <th></th>\n",
              "      <th>ML Model</th>\n",
              "      <th>Accuracy</th>\n",
              "      <th>f1_score</th>\n",
              "      <th>Recall</th>\n",
              "      <th>Precision</th>\n",
              "    </tr>\n",
              "  </thead>\n",
              "  <tbody>\n",
              "    <tr>\n",
              "      <th>0</th>\n",
              "      <td>Logistic Regression</td>\n",
              "      <td>0.887</td>\n",
              "      <td>0.785</td>\n",
              "      <td>0.890</td>\n",
              "      <td>0.993</td>\n",
              "    </tr>\n",
              "    <tr>\n",
              "      <th>1</th>\n",
              "      <td>K-Nearest Neighbors</td>\n",
              "      <td>0.814</td>\n",
              "      <td>0.694</td>\n",
              "      <td>1.000</td>\n",
              "      <td>0.999</td>\n",
              "    </tr>\n",
              "    <tr>\n",
              "      <th>2</th>\n",
              "      <td>Support Vector Machine</td>\n",
              "      <td>0.892</td>\n",
              "      <td>0.798</td>\n",
              "      <td>0.999</td>\n",
              "      <td>0.999</td>\n",
              "    </tr>\n",
              "    <tr>\n",
              "      <th>3</th>\n",
              "      <td>Decision Tree</td>\n",
              "      <td>0.868</td>\n",
              "      <td>0.756</td>\n",
              "      <td>0.772</td>\n",
              "      <td>0.928</td>\n",
              "    </tr>\n",
              "    <tr>\n",
              "      <th>4</th>\n",
              "      <td>Random Forest</td>\n",
              "      <td>0.891</td>\n",
              "      <td>0.790</td>\n",
              "      <td>0.973</td>\n",
              "      <td>0.998</td>\n",
              "    </tr>\n",
              "    <tr>\n",
              "      <th>5</th>\n",
              "      <td>Gradient Boost</td>\n",
              "      <td>0.857</td>\n",
              "      <td>0.701</td>\n",
              "      <td>0.929</td>\n",
              "      <td>0.997</td>\n",
              "    </tr>\n",
              "  </tbody>\n",
              "</table>\n",
              "</div>\n",
              "      <button class=\"colab-df-convert\" onclick=\"convertToInteractive('df-f822137e-e6a7-4eee-a7ab-0734c65dc86f')\"\n",
              "              title=\"Convert this dataframe to an interactive table.\"\n",
              "              style=\"display:none;\">\n",
              "\n",
              "  <svg xmlns=\"http://www.w3.org/2000/svg\" height=\"24px\"viewBox=\"0 0 24 24\"\n",
              "       width=\"24px\">\n",
              "    <path d=\"M0 0h24v24H0V0z\" fill=\"none\"/>\n",
              "    <path d=\"M18.56 5.44l.94 2.06.94-2.06 2.06-.94-2.06-.94-.94-2.06-.94 2.06-2.06.94zm-11 1L8.5 8.5l.94-2.06 2.06-.94-2.06-.94L8.5 2.5l-.94 2.06-2.06.94zm10 10l.94 2.06.94-2.06 2.06-.94-2.06-.94-.94-2.06-.94 2.06-2.06.94z\"/><path d=\"M17.41 7.96l-1.37-1.37c-.4-.4-.92-.59-1.43-.59-.52 0-1.04.2-1.43.59L10.3 9.45l-7.72 7.72c-.78.78-.78 2.05 0 2.83L4 21.41c.39.39.9.59 1.41.59.51 0 1.02-.2 1.41-.59l7.78-7.78 2.81-2.81c.8-.78.8-2.07 0-2.86zM5.41 20L4 18.59l7.72-7.72 1.47 1.35L5.41 20z\"/>\n",
              "  </svg>\n",
              "      </button>\n",
              "\n",
              "\n",
              "\n",
              "    <div id=\"df-63177de3-103e-4f25-8d7e-12049af6ab43\">\n",
              "      <button class=\"colab-df-quickchart\" onclick=\"quickchart('df-63177de3-103e-4f25-8d7e-12049af6ab43')\"\n",
              "              title=\"Suggest charts.\"\n",
              "              style=\"display:none;\">\n",
              "\n",
              "<svg xmlns=\"http://www.w3.org/2000/svg\" height=\"24px\"viewBox=\"0 0 24 24\"\n",
              "     width=\"24px\">\n",
              "    <g>\n",
              "        <path d=\"M19 3H5c-1.1 0-2 .9-2 2v14c0 1.1.9 2 2 2h14c1.1 0 2-.9 2-2V5c0-1.1-.9-2-2-2zM9 17H7v-7h2v7zm4 0h-2V7h2v10zm4 0h-2v-4h2v4z\"/>\n",
              "    </g>\n",
              "</svg>\n",
              "      </button>\n",
              "    </div>\n",
              "\n",
              "<style>\n",
              "  .colab-df-quickchart {\n",
              "    background-color: #E8F0FE;\n",
              "    border: none;\n",
              "    border-radius: 50%;\n",
              "    cursor: pointer;\n",
              "    display: none;\n",
              "    fill: #1967D2;\n",
              "    height: 32px;\n",
              "    padding: 0 0 0 0;\n",
              "    width: 32px;\n",
              "  }\n",
              "\n",
              "  .colab-df-quickchart:hover {\n",
              "    background-color: #E2EBFA;\n",
              "    box-shadow: 0px 1px 2px rgba(60, 64, 67, 0.3), 0px 1px 3px 1px rgba(60, 64, 67, 0.15);\n",
              "    fill: #174EA6;\n",
              "  }\n",
              "\n",
              "  [theme=dark] .colab-df-quickchart {\n",
              "    background-color: #3B4455;\n",
              "    fill: #D2E3FC;\n",
              "  }\n",
              "\n",
              "  [theme=dark] .colab-df-quickchart:hover {\n",
              "    background-color: #434B5C;\n",
              "    box-shadow: 0px 1px 3px 1px rgba(0, 0, 0, 0.15);\n",
              "    filter: drop-shadow(0px 1px 2px rgba(0, 0, 0, 0.3));\n",
              "    fill: #FFFFFF;\n",
              "  }\n",
              "</style>\n",
              "\n",
              "    <script>\n",
              "      async function quickchart(key) {\n",
              "        const containerElement = document.querySelector('#' + key);\n",
              "        const charts = await google.colab.kernel.invokeFunction(\n",
              "            'suggestCharts', [key], {});\n",
              "      }\n",
              "    </script>\n",
              "\n",
              "      <script>\n",
              "\n",
              "function displayQuickchartButton(domScope) {\n",
              "  let quickchartButtonEl =\n",
              "    domScope.querySelector('#df-63177de3-103e-4f25-8d7e-12049af6ab43 button.colab-df-quickchart');\n",
              "  quickchartButtonEl.style.display =\n",
              "    google.colab.kernel.accessAllowed ? 'block' : 'none';\n",
              "}\n",
              "\n",
              "        displayQuickchartButton(document);\n",
              "      </script>\n",
              "      <style>\n",
              "    .colab-df-container {\n",
              "      display:flex;\n",
              "      flex-wrap:wrap;\n",
              "      gap: 12px;\n",
              "    }\n",
              "\n",
              "    .colab-df-convert {\n",
              "      background-color: #E8F0FE;\n",
              "      border: none;\n",
              "      border-radius: 50%;\n",
              "      cursor: pointer;\n",
              "      display: none;\n",
              "      fill: #1967D2;\n",
              "      height: 32px;\n",
              "      padding: 0 0 0 0;\n",
              "      width: 32px;\n",
              "    }\n",
              "\n",
              "    .colab-df-convert:hover {\n",
              "      background-color: #E2EBFA;\n",
              "      box-shadow: 0px 1px 2px rgba(60, 64, 67, 0.3), 0px 1px 3px 1px rgba(60, 64, 67, 0.15);\n",
              "      fill: #174EA6;\n",
              "    }\n",
              "\n",
              "    [theme=dark] .colab-df-convert {\n",
              "      background-color: #3B4455;\n",
              "      fill: #D2E3FC;\n",
              "    }\n",
              "\n",
              "    [theme=dark] .colab-df-convert:hover {\n",
              "      background-color: #434B5C;\n",
              "      box-shadow: 0px 1px 3px 1px rgba(0, 0, 0, 0.15);\n",
              "      filter: drop-shadow(0px 1px 2px rgba(0, 0, 0, 0.3));\n",
              "      fill: #FFFFFF;\n",
              "    }\n",
              "  </style>\n",
              "\n",
              "      <script>\n",
              "        const buttonEl =\n",
              "          document.querySelector('#df-f822137e-e6a7-4eee-a7ab-0734c65dc86f button.colab-df-convert');\n",
              "        buttonEl.style.display =\n",
              "          google.colab.kernel.accessAllowed ? 'block' : 'none';\n",
              "\n",
              "        async function convertToInteractive(key) {\n",
              "          const element = document.querySelector('#df-f822137e-e6a7-4eee-a7ab-0734c65dc86f');\n",
              "          const dataTable =\n",
              "            await google.colab.kernel.invokeFunction('convertToInteractive',\n",
              "                                                     [key], {});\n",
              "          if (!dataTable) return;\n",
              "\n",
              "          const docLinkHtml = 'Like what you see? Visit the ' +\n",
              "            '<a target=\"_blank\" href=https://colab.research.google.com/notebooks/data_table.ipynb>data table notebook</a>'\n",
              "            + ' to learn more about interactive tables.';\n",
              "          element.innerHTML = '';\n",
              "          dataTable['output_type'] = 'display_data';\n",
              "          await google.colab.output.renderOutput(dataTable, element);\n",
              "          const docLink = document.createElement('div');\n",
              "          docLink.innerHTML = docLinkHtml;\n",
              "          element.appendChild(docLink);\n",
              "        }\n",
              "      </script>\n",
              "    </div>\n",
              "  </div>\n"
            ]
          },
          "metadata": {},
          "execution_count": 35
        }
      ],
      "source": [
        "#Converting Results to dataframe\n",
        "\n",
        "result = pd.DataFrame({ 'ML Model' : ml_model,\n",
        "                        'Accuracy' : accuracy,\n",
        "                        'f1_score' : f1_score,\n",
        "                        'Recall'   : recall,\n",
        "                        'Precision': precision,\n",
        "                      })\n",
        "\n",
        "result"
      ]
    },
    {
      "cell_type": "code",
      "execution_count": 36,
      "metadata": {
        "id": "N0UAxqV4to4q",
        "colab": {
          "base_uri": "https://localhost:8080/",
          "height": 238
        },
        "outputId": "6e20bdf9-92b5-4f79-f56c-1a5c5a95934a"
      },
      "outputs": [
        {
          "output_type": "execute_result",
          "data": {
            "text/plain": [
              "                 ML Model  Accuracy  f1_score  Recall  Precision\n",
              "0  Support Vector Machine     0.892     0.798   0.999      0.999\n",
              "1           Random Forest     0.891     0.790   0.973      0.998\n",
              "2     Logistic Regression     0.887     0.785   0.890      0.993\n",
              "3           Decision Tree     0.868     0.756   0.772      0.928\n",
              "4         Gradient Boost      0.857     0.701   0.929      0.997\n",
              "5     K-Nearest Neighbors     0.814     0.694   1.000      0.999"
            ],
            "text/html": [
              "\n",
              "\n",
              "  <div id=\"df-279d9aa0-c274-4ed4-8cb5-7b42996b9c4f\">\n",
              "    <div class=\"colab-df-container\">\n",
              "      <div>\n",
              "<style scoped>\n",
              "    .dataframe tbody tr th:only-of-type {\n",
              "        vertical-align: middle;\n",
              "    }\n",
              "\n",
              "    .dataframe tbody tr th {\n",
              "        vertical-align: top;\n",
              "    }\n",
              "\n",
              "    .dataframe thead th {\n",
              "        text-align: right;\n",
              "    }\n",
              "</style>\n",
              "<table border=\"1\" class=\"dataframe\">\n",
              "  <thead>\n",
              "    <tr style=\"text-align: right;\">\n",
              "      <th></th>\n",
              "      <th>ML Model</th>\n",
              "      <th>Accuracy</th>\n",
              "      <th>f1_score</th>\n",
              "      <th>Recall</th>\n",
              "      <th>Precision</th>\n",
              "    </tr>\n",
              "  </thead>\n",
              "  <tbody>\n",
              "    <tr>\n",
              "      <th>0</th>\n",
              "      <td>Support Vector Machine</td>\n",
              "      <td>0.892</td>\n",
              "      <td>0.798</td>\n",
              "      <td>0.999</td>\n",
              "      <td>0.999</td>\n",
              "    </tr>\n",
              "    <tr>\n",
              "      <th>1</th>\n",
              "      <td>Random Forest</td>\n",
              "      <td>0.891</td>\n",
              "      <td>0.790</td>\n",
              "      <td>0.973</td>\n",
              "      <td>0.998</td>\n",
              "    </tr>\n",
              "    <tr>\n",
              "      <th>2</th>\n",
              "      <td>Logistic Regression</td>\n",
              "      <td>0.887</td>\n",
              "      <td>0.785</td>\n",
              "      <td>0.890</td>\n",
              "      <td>0.993</td>\n",
              "    </tr>\n",
              "    <tr>\n",
              "      <th>3</th>\n",
              "      <td>Decision Tree</td>\n",
              "      <td>0.868</td>\n",
              "      <td>0.756</td>\n",
              "      <td>0.772</td>\n",
              "      <td>0.928</td>\n",
              "    </tr>\n",
              "    <tr>\n",
              "      <th>4</th>\n",
              "      <td>Gradient Boost</td>\n",
              "      <td>0.857</td>\n",
              "      <td>0.701</td>\n",
              "      <td>0.929</td>\n",
              "      <td>0.997</td>\n",
              "    </tr>\n",
              "    <tr>\n",
              "      <th>5</th>\n",
              "      <td>K-Nearest Neighbors</td>\n",
              "      <td>0.814</td>\n",
              "      <td>0.694</td>\n",
              "      <td>1.000</td>\n",
              "      <td>0.999</td>\n",
              "    </tr>\n",
              "  </tbody>\n",
              "</table>\n",
              "</div>\n",
              "      <button class=\"colab-df-convert\" onclick=\"convertToInteractive('df-279d9aa0-c274-4ed4-8cb5-7b42996b9c4f')\"\n",
              "              title=\"Convert this dataframe to an interactive table.\"\n",
              "              style=\"display:none;\">\n",
              "\n",
              "  <svg xmlns=\"http://www.w3.org/2000/svg\" height=\"24px\"viewBox=\"0 0 24 24\"\n",
              "       width=\"24px\">\n",
              "    <path d=\"M0 0h24v24H0V0z\" fill=\"none\"/>\n",
              "    <path d=\"M18.56 5.44l.94 2.06.94-2.06 2.06-.94-2.06-.94-.94-2.06-.94 2.06-2.06.94zm-11 1L8.5 8.5l.94-2.06 2.06-.94-2.06-.94L8.5 2.5l-.94 2.06-2.06.94zm10 10l.94 2.06.94-2.06 2.06-.94-2.06-.94-.94-2.06-.94 2.06-2.06.94z\"/><path d=\"M17.41 7.96l-1.37-1.37c-.4-.4-.92-.59-1.43-.59-.52 0-1.04.2-1.43.59L10.3 9.45l-7.72 7.72c-.78.78-.78 2.05 0 2.83L4 21.41c.39.39.9.59 1.41.59.51 0 1.02-.2 1.41-.59l7.78-7.78 2.81-2.81c.8-.78.8-2.07 0-2.86zM5.41 20L4 18.59l7.72-7.72 1.47 1.35L5.41 20z\"/>\n",
              "  </svg>\n",
              "      </button>\n",
              "\n",
              "\n",
              "\n",
              "    <div id=\"df-e9b62e8b-1b85-4cb2-a25d-d27986be443d\">\n",
              "      <button class=\"colab-df-quickchart\" onclick=\"quickchart('df-e9b62e8b-1b85-4cb2-a25d-d27986be443d')\"\n",
              "              title=\"Suggest charts.\"\n",
              "              style=\"display:none;\">\n",
              "\n",
              "<svg xmlns=\"http://www.w3.org/2000/svg\" height=\"24px\"viewBox=\"0 0 24 24\"\n",
              "     width=\"24px\">\n",
              "    <g>\n",
              "        <path d=\"M19 3H5c-1.1 0-2 .9-2 2v14c0 1.1.9 2 2 2h14c1.1 0 2-.9 2-2V5c0-1.1-.9-2-2-2zM9 17H7v-7h2v7zm4 0h-2V7h2v10zm4 0h-2v-4h2v4z\"/>\n",
              "    </g>\n",
              "</svg>\n",
              "      </button>\n",
              "    </div>\n",
              "\n",
              "<style>\n",
              "  .colab-df-quickchart {\n",
              "    background-color: #E8F0FE;\n",
              "    border: none;\n",
              "    border-radius: 50%;\n",
              "    cursor: pointer;\n",
              "    display: none;\n",
              "    fill: #1967D2;\n",
              "    height: 32px;\n",
              "    padding: 0 0 0 0;\n",
              "    width: 32px;\n",
              "  }\n",
              "\n",
              "  .colab-df-quickchart:hover {\n",
              "    background-color: #E2EBFA;\n",
              "    box-shadow: 0px 1px 2px rgba(60, 64, 67, 0.3), 0px 1px 3px 1px rgba(60, 64, 67, 0.15);\n",
              "    fill: #174EA6;\n",
              "  }\n",
              "\n",
              "  [theme=dark] .colab-df-quickchart {\n",
              "    background-color: #3B4455;\n",
              "    fill: #D2E3FC;\n",
              "  }\n",
              "\n",
              "  [theme=dark] .colab-df-quickchart:hover {\n",
              "    background-color: #434B5C;\n",
              "    box-shadow: 0px 1px 3px 1px rgba(0, 0, 0, 0.15);\n",
              "    filter: drop-shadow(0px 1px 2px rgba(0, 0, 0, 0.3));\n",
              "    fill: #FFFFFF;\n",
              "  }\n",
              "</style>\n",
              "\n",
              "    <script>\n",
              "      async function quickchart(key) {\n",
              "        const containerElement = document.querySelector('#' + key);\n",
              "        const charts = await google.colab.kernel.invokeFunction(\n",
              "            'suggestCharts', [key], {});\n",
              "      }\n",
              "    </script>\n",
              "\n",
              "      <script>\n",
              "\n",
              "function displayQuickchartButton(domScope) {\n",
              "  let quickchartButtonEl =\n",
              "    domScope.querySelector('#df-e9b62e8b-1b85-4cb2-a25d-d27986be443d button.colab-df-quickchart');\n",
              "  quickchartButtonEl.style.display =\n",
              "    google.colab.kernel.accessAllowed ? 'block' : 'none';\n",
              "}\n",
              "\n",
              "        displayQuickchartButton(document);\n",
              "      </script>\n",
              "      <style>\n",
              "    .colab-df-container {\n",
              "      display:flex;\n",
              "      flex-wrap:wrap;\n",
              "      gap: 12px;\n",
              "    }\n",
              "\n",
              "    .colab-df-convert {\n",
              "      background-color: #E8F0FE;\n",
              "      border: none;\n",
              "      border-radius: 50%;\n",
              "      cursor: pointer;\n",
              "      display: none;\n",
              "      fill: #1967D2;\n",
              "      height: 32px;\n",
              "      padding: 0 0 0 0;\n",
              "      width: 32px;\n",
              "    }\n",
              "\n",
              "    .colab-df-convert:hover {\n",
              "      background-color: #E2EBFA;\n",
              "      box-shadow: 0px 1px 2px rgba(60, 64, 67, 0.3), 0px 1px 3px 1px rgba(60, 64, 67, 0.15);\n",
              "      fill: #174EA6;\n",
              "    }\n",
              "\n",
              "    [theme=dark] .colab-df-convert {\n",
              "      background-color: #3B4455;\n",
              "      fill: #D2E3FC;\n",
              "    }\n",
              "\n",
              "    [theme=dark] .colab-df-convert:hover {\n",
              "      background-color: #434B5C;\n",
              "      box-shadow: 0px 1px 3px 1px rgba(0, 0, 0, 0.15);\n",
              "      filter: drop-shadow(0px 1px 2px rgba(0, 0, 0, 0.3));\n",
              "      fill: #FFFFFF;\n",
              "    }\n",
              "  </style>\n",
              "\n",
              "      <script>\n",
              "        const buttonEl =\n",
              "          document.querySelector('#df-279d9aa0-c274-4ed4-8cb5-7b42996b9c4f button.colab-df-convert');\n",
              "        buttonEl.style.display =\n",
              "          google.colab.kernel.accessAllowed ? 'block' : 'none';\n",
              "\n",
              "        async function convertToInteractive(key) {\n",
              "          const element = document.querySelector('#df-279d9aa0-c274-4ed4-8cb5-7b42996b9c4f');\n",
              "          const dataTable =\n",
              "            await google.colab.kernel.invokeFunction('convertToInteractive',\n",
              "                                                     [key], {});\n",
              "          if (!dataTable) return;\n",
              "\n",
              "          const docLinkHtml = 'Like what you see? Visit the ' +\n",
              "            '<a target=\"_blank\" href=https://colab.research.google.com/notebooks/data_table.ipynb>data table notebook</a>'\n",
              "            + ' to learn more about interactive tables.';\n",
              "          element.innerHTML = '';\n",
              "          dataTable['output_type'] = 'display_data';\n",
              "          await google.colab.output.renderOutput(dataTable, element);\n",
              "          const docLink = document.createElement('div');\n",
              "          docLink.innerHTML = docLinkHtml;\n",
              "          element.appendChild(docLink);\n",
              "        }\n",
              "      </script>\n",
              "    </div>\n",
              "  </div>\n"
            ]
          },
          "metadata": {},
          "execution_count": 36
        }
      ],
      "source": [
        "#Sorting the datafram on accuracy\n",
        "\n",
        "sorted_result=result.sort_values(by=['Accuracy', 'f1_score'],ascending=False).reset_index(drop=True)\n",
        "\n",
        "sorted_result"
      ]
    },
    {
      "cell_type": "markdown",
      "source": [
        "### Saving the best model"
      ],
      "metadata": {
        "id": "P9OGzVxkPZi0"
      }
    },
    {
      "cell_type": "code",
      "source": [
        "#exporting the model using pickle\n",
        "\n",
        "import pickle\n",
        "\n",
        "with open(\"PhishingDomainDetection.pkl\", \"wb\") as file:\n",
        "  pickle.dump(svc,file)"
      ],
      "metadata": {
        "id": "3VOu4xhgPMyp"
      },
      "execution_count": 37,
      "outputs": []
    }
  ],
  "metadata": {
    "colab": {
      "provenance": []
    },
    "kernelspec": {
      "display_name": "Python 3",
      "name": "python3"
    },
    "language_info": {
      "name": "python"
    }
  },
  "nbformat": 4,
  "nbformat_minor": 0
}